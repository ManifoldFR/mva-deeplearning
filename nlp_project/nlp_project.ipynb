{
 "cells": [
  {
   "cell_type": "markdown",
   "metadata": {},
   "source": [
    "# Deep Learning for NLP - Project"
   ]
  },
  {
   "cell_type": "markdown",
   "metadata": {},
   "source": [
    "RULES:\n",
    "\n",
    "* Do not create any additional cell\n",
    "\n",
    "* Fill in the blanks\n",
    "\n",
    "* All cells should be runnable (modulo trivial compatibility bugs that we'd fix)\n",
    "\n",
    "* 4 / 20 points will be allocated to the clarity of your code\n",
    "\n",
    "* Efficient code will have a bonus\n",
    "\n",
    "DELIVERABLE:\n",
    "\n",
    "* the pdf with your answers\n",
    "* this notebook\n",
    "* the predictions of the SST test set\n",
    "\n",
    "DO NOT INCLUDE THE DATASETS IN THE DELIVERABLE.."
   ]
  },
  {
   "cell_type": "code",
   "execution_count": 1,
   "metadata": {
    "collapsed": false,
    "jupyter": {
     "outputs_hidden": false
    }
   },
   "outputs": [],
   "source": [
    "# Python 3.6 or above is required\n",
    "from collections import defaultdict\n",
    "import gzip\n",
    "import numpy as np\n",
    "from pathlib import Path\n",
    "from urllib.request import urlretrieve"
   ]
  },
  {
   "cell_type": "code",
   "execution_count": 2,
   "metadata": {},
   "outputs": [],
   "source": [
    "PATH_TO_DATA = Path('data/')\n",
    "# Download word vectors, might take a few minutes and about ~3GB of storage space\n",
    "en_embeddings_path = PATH_TO_DATA / 'cc.en.300.vec.gz'\n",
    "if not en_embeddings_path.exists():\n",
    "    urlretrieve('https://dl.fbaipublicfiles.com/fasttext/vectors-crawl/cc.en.300.vec.gz', en_embeddings_path)\n",
    "fr_embeddings_path = PATH_TO_DATA / 'cc.fr.300.vec.gz'\n",
    "if not fr_embeddings_path.exists():\n",
    "    urlretrieve('https://dl.fbaipublicfiles.com/fasttext/vectors-crawl/cc.fr.300.vec.gz', fr_embeddings_path)"
   ]
  },
  {
   "cell_type": "markdown",
   "metadata": {},
   "source": [
    "# 1) Monolingual (English) word embeddings "
   ]
  },
  {
   "cell_type": "code",
   "execution_count": 3,
   "metadata": {},
   "outputs": [],
   "source": [
    "class Word2Vec():\n",
    "\n",
    "    def __init__(self, filepath, vocab_size=50000):\n",
    "        self.words, self.embeddings = self.load_wordvec(filepath, vocab_size)\n",
    "        # Mappings for O(1) retrieval:\n",
    "        self.word2id = {word: idx for idx, word in enumerate(self.words)}\n",
    "        self.id2word = {idx: word for idx, word in enumerate(self.words)}\n",
    "    \n",
    "    def load_wordvec(self, filepath, vocab_size):\n",
    "        assert str(filepath).endswith('.gz')\n",
    "        words = []\n",
    "        embeddings = []\n",
    "        with gzip.open(filepath, 'rt') as f:  # Read compressed file directly\n",
    "            next(f)  # Skip header\n",
    "            for i, line in enumerate(f):\n",
    "                word, vec = line.split(' ', 1)\n",
    "                words.append(word)\n",
    "                embeddings.append(np.fromstring(vec, sep=' '))\n",
    "                if i == (vocab_size - 1):\n",
    "                    break\n",
    "        print('Loaded %s pretrained word vectors' % (len(words)))\n",
    "        return words, np.vstack(embeddings)\n",
    "    \n",
    "    def encode(self, word):\n",
    "        # Returns the 1D embedding of a given word\n",
    "        word_id = self.word2id[word]\n",
    "        return self.embeddings[word_id]\n",
    "    \n",
    "    def score(self, word1, word2):\n",
    "        # Return the cosine similarity: use np.dot & np.linalg.norm\n",
    "        # Step 1: get embedding\n",
    "        v1 = self.encode(word1)\n",
    "        v2 = self.encode(word2)\n",
    "        # Step 2: return cosine of embeddings\n",
    "        norm_prod = np.linalg.norm(v1) * np.linalg.norm(v2)\n",
    "        return np.dot(v1, v2) / norm_prod\n",
    "    \n",
    "    def most_similar(self, word, k=5):\n",
    "        # Returns the k most similar words: self.score & np.argsort\n",
    "        \n",
    "        # Step 1: compute all scores\n",
    "        scores = [self.score(word, w_) for w_ in self.words]\n",
    "        # Step 2: sort scores, get idx of 5 highest ones\n",
    "        best_k_idx = np.flip(np.argsort(scores))[:k]\n",
    "        return [self.id2word[idx] for idx in best_k_idx]"
   ]
  },
  {
   "cell_type": "code",
   "execution_count": 4,
   "metadata": {
    "collapsed": false,
    "jupyter": {
     "outputs_hidden": false
    }
   },
   "outputs": [
    {
     "name": "stdout",
     "output_type": "stream",
     "text": [
      "Loaded 50000 pretrained word vectors\n",
      "cat tree 0.2644975466165475\n",
      "cat dog 0.7078641298542562\n",
      "cat pet 0.6753313359976381\n",
      "Paris France 0.6892958925806542\n",
      "Paris Germany 0.4051242286737548\n",
      "Paris baguette 0.29399958277802224\n",
      "Paris donut -0.006588507552348005\n",
      "['cat', 'cats', 'kitty', 'kitten', 'feline']\n",
      "['dog', 'dogs', 'puppy', 'pup', 'canine']\n",
      "['dogs', 'dog', 'cats', 'puppies', 'Dogs']\n",
      "['Paris', 'France', 'Parisian', 'Marseille', 'Brussels']\n",
      "['Germany', 'Austria', 'Europe', 'Berlin', 'Hamburg']\n"
     ]
    }
   ],
   "source": [
    "word2vec = Word2Vec(en_embeddings_path, vocab_size=50000)\n",
    "\n",
    "# You will be evaluated on the output of the following:\n",
    "for word1, word2 in zip(('cat', 'cat', 'cat', 'Paris', 'Paris', 'Paris', 'Paris'), ('tree', 'dog', 'pet', 'France', 'Germany', 'baguette', 'donut')):\n",
    "    print(word1, word2, word2vec.score(word1, word2))\n",
    "for word in ['cat', 'dog', 'dogs', 'Paris', 'Germany']:\n",
    "    print(word2vec.most_similar(word))"
   ]
  },
  {
   "cell_type": "code",
   "execution_count": 17,
   "metadata": {
    "collapsed": false,
    "jupyter": {
     "outputs_hidden": false
    }
   },
   "outputs": [],
   "source": [
    "class BagOfWords():\n",
    "    \n",
    "    def __init__(self, word2vec):\n",
    "        self.word2vec = word2vec\n",
    "    \n",
    "    def build_idf(self, sentences):\n",
    "        # IDF of word: log(num_docs/(num of docs containing word))\n",
    "        # build the idf dictionary: associate each word to its idf value\n",
    "        # -> idf = {word: idf_value, ...}\n",
    "        num_docs = len(sentences)\n",
    "        dcount = defaultdict(int)\n",
    "        for sent in sentences:\n",
    "            dseen = defaultdict(bool)  # whether word was already seen in current sentence\n",
    "            for word in sent.split():\n",
    "                # if word wasn't seen, count it and flag it\n",
    "                if not(dseen[word]):\n",
    "                    dseen[word] = True  # set to True\n",
    "                    dcount[word] += 1\n",
    "        idf = defaultdict(float)\n",
    "        for word, c in dcount.items():\n",
    "            idf[word] = np.log(num_docs/c)\n",
    "        return idf\n",
    "    \n",
    "    def encode(self, sentence, idf=None):\n",
    "        # Takes a sentence as input, returns the sentence embedding\n",
    "        sentence_filtered = []\n",
    "        for w in sentence.split():\n",
    "            if w in self.word2vec.word2id:\n",
    "                sentence_filtered.append(w)\n",
    "        if idf is None:\n",
    "            res = np.mean([\n",
    "                self.word2vec.encode(word)\n",
    "                for word in sentence_filtered\n",
    "            ], axis=0)\n",
    "            return res\n",
    "        else:\n",
    "            res = np.mean([\n",
    "                self.word2vec.encode(word) * idf[word]\n",
    "                for word in sentence_filtered\n",
    "            ], axis=0)\n",
    "            return res\n",
    "\n",
    "    def score(self, sentence1, sentence2, idf=None):\n",
    "        v1 = self.encode(sentence1, idf=idf)\n",
    "        v2 = self.encode(sentence2, idf=idf)\n",
    "        norm_prod = np.linalg.norm(v1) * np.linalg.norm(v2)\n",
    "        return np.dot(v1, v2) / norm_prod\n",
    "    \n",
    "    def most_similar(self, sentence, sentences, idf=None, k=5):\n",
    "        # Return most similar sentences\n",
    "        query = self.encode(sentence, idf)  # shape (embed_dim,)\n",
    "        keys = np.vstack([self.encode(sent, idf) for sent in sentences])\n",
    "        # keys is of shape (n_sentences,embed_dim)\n",
    "        \n",
    "        norm_query = np.linalg.norm(query, keepdims=True)\n",
    "        norm_keys = np.linalg.norm(keys, axis=1)  # shape (n_sent,1)\n",
    "        norm_prod = norm_query * norm_keys  # shape (n_sent,)\n",
    "        scores = keys @ query\n",
    "        scores /= norm_prod  # shape (n_sent,)\n",
    "        best_k = np.flip(np.argsort(scores))[:k]\n",
    "        \n",
    "        return [sentences[idx] for idx in best_k]"
   ]
  },
  {
   "cell_type": "code",
   "execution_count": null,
   "metadata": {
    "collapsed": false,
    "jupyter": {
     "outputs_hidden": false
    }
   },
   "outputs": [],
   "source": [
    "word2vec = Word2Vec(en_embeddings_path, vocab_size=50000)\n",
    "sentence2vec = BagOfWords(word2vec)\n",
    "\n",
    "# Load sentences in \"PATH_TO_DATA/sentences.txt\"\n",
    "filepath = PATH_TO_DATA / 'sentences.txt'\n",
    "with open(filepath, 'r') as f:\n",
    "    sentences = [line.strip('\\n') for line in f]\n",
    "\n",
    "\n",
    "# You will be evaluated on the output of the following:\n",
    "print('\\n\\tAverage of word embeddings')\n",
    "sentence1 = sentences[7]\n",
    "sentence2 = sentences[13]\n",
    "print(sentence1)\n",
    "print(sentence2)\n",
    "print(sentence2vec.score(sentence1, sentence2))\n",
    "sentence = sentences[10]\n",
    "similar_sentences = sentence2vec.most_similar(sentence, sentences)  # BagOfWords-mean\n",
    "print(sentence)\n",
    "for i, sentence in enumerate(similar_sentences):\n",
    "    print(str(i+1) + ')', sentence)\n",
    "\n",
    "# Build idf scores for each word\n",
    "idf = sentence2vec.build_idf(sentences)\n",
    "\n",
    "print('\\n\\tidf weighted average of word embeddings')\n",
    "print(sentence1)\n",
    "print(sentence2)\n",
    "print(sentence2vec.score(sentence1, sentence2, idf))\n",
    "similar_sentences = sentence2vec.most_similar(sentence, sentences, idf)  # BagOfWords-idf\n",
    "print(sentence)\n",
    "for i, sentence in enumerate(similar_sentences):\n",
    "    print(str(i+1) + ')', sentence)"
   ]
  },
  {
   "cell_type": "markdown",
   "metadata": {},
   "source": [
    "# 2) Multilingual (English-French) word embeddings"
   ]
  },
  {
   "cell_type": "markdown",
   "metadata": {},
   "source": [
    "Let's consider a bilingual dictionary of size V_a (e.g French-English).\n",
    "\n",
    "Let's define **X** and **Y** the **French** and **English** matrices.\n",
    "\n",
    "They contain the embeddings associated to the words in the bilingual dictionary.\n",
    "\n",
    "We want to find a **mapping W** that will project the source word space (e.g French) to the target word space (e.g English).\n",
    "\n",
    "Procrustes : **W\\* = argmin || W.X - Y ||  s.t  W^T.W = Id**\n",
    "has a closed form solution:\n",
    "**W = U.V^T  where  U.Sig.V^T = SVD(Y.X^T)**\n",
    "\n",
    "In what follows, you are asked to: "
   ]
  },
  {
   "cell_type": "code",
   "execution_count": 7,
   "metadata": {},
   "outputs": [],
   "source": [
    "class MultilingualWordAligner:\n",
    "    \n",
    "    def __init__(self, fr_word2vec, en_word2vec):\n",
    "        self.fr_word2vec = fr_word2vec\n",
    "        self.en_word2vec = en_word2vec\n",
    "        self.aligned_fr_embeddings = self.get_aligned_fr_embeddings()\n",
    "        \n",
    "    def get_aligned_fr_embeddings(self):\n",
    "        # 1 - Get words that appear in both vocabs (= identical character strings)\n",
    "        \n",
    "        self.common_words = []\n",
    "        \n",
    "        # Loop over english words\n",
    "        for w in self.en_word2vec.words:\n",
    "            wid = self.fr_word2vec.word2id.get(w)  # None if not other vocab\n",
    "            if wid is not None:\n",
    "                self.common_words.append(w)\n",
    "        \n",
    "        #     Use it to create the matrix X (emb_dim, vocab_size) and Y (emb_dim, vocab_size) (of embeddings for these words)\n",
    "        # assert X.shape[0] == 300 and Y.shape[0] == 300\n",
    "        vocab_size = len(self.fr_word2vec.words)\n",
    "        common_vocab_size = len(self.common_words)\n",
    "        X = np.zeros((300, common_vocab_size))\n",
    "        Y = np.zeros((300, common_vocab_size))\n",
    "        for i, w in enumerate(self.common_words):\n",
    "            X[:, i] = self.fr_word2vec.encode(w)\n",
    "            Y[:, i] = self.en_word2vec.encode(w)\n",
    "        \n",
    "        # 2 - Solve the Procrustes using the numpy package and: np.linalg.svd() and get the optimal W\n",
    "        #     Now self.fr_word2vec.embeddings @ W.transpose() is in the same space as en_word2vec.embeddings\n",
    "        U, _, V_t = np.linalg.svd(Y @ X.T)\n",
    "        W = U @ V_t\n",
    "        assert W.shape == (300, 300)\n",
    "        \n",
    "        self.W = W  # inverse is W.T\n",
    "        \n",
    "        # push the FR embeddings to the shared space\n",
    "        ## shape (vocab_size, embed_dim)\n",
    "        return (W @ self.fr_word2vec.embeddings.T).T\n",
    "        \n",
    "    def get_closest_english_words(self, fr_word, k=3):\n",
    "        # 3 - Return the top k English nearest neighbors to the input French word\n",
    "        fr_query = self.fr_word2vec.encode(fr_word)  # shape (embed_dim,)\n",
    "        aligned_query = self.W @ fr_query  # shape (embed_dim,), in English-space\n",
    "        # Aligned English vocabulary\n",
    "        en_embeds = self.en_word2vec.embeddings  # shape (vocab, embed_dim)\n",
    "        \n",
    "        # dist = np.linalg.norm(aligned_query - aligned_embeds, axis=1)  # shape vocab_size\n",
    "        # best_k = np.argsort(dist)[:k]\n",
    "        # print(\"best k:\", best_k, \"| scores:\", dist[best_k])\n",
    "        \n",
    "        norm_prod = np.linalg.norm(aligned_query)*np.linalg.norm(en_embeds, axis=1)\n",
    "        scores = en_embeds @ aligned_query / norm_prod\n",
    "        best_k = np.flip(np.argsort(scores))[:k]\n",
    "        \n",
    "        return [self.en_word2vec.words[idx] for idx in best_k]"
   ]
  },
  {
   "cell_type": "code",
   "execution_count": 8,
   "metadata": {},
   "outputs": [
    {
     "name": "stdout",
     "output_type": "stream",
     "text": [
      "Loaded 50000 pretrained word vectors\n",
      "Loaded 50000 pretrained word vectors\n",
      "----------\n",
      "fr: \"chat\"\n",
      "en: \"cat\"\n",
      "en: \"kitten\"\n",
      "en: \"kitty\"\n",
      "----------\n",
      "fr: \"chien\"\n",
      "en: \"dog\"\n",
      "en: \"cat\"\n",
      "en: \"pet\"\n",
      "----------\n",
      "fr: \"voiture\"\n",
      "en: \"car\"\n",
      "en: \"vehicle\"\n",
      "en: \"automobile\"\n",
      "----------\n",
      "fr: \"zut\"\n",
      "en: \"oops\"\n",
      "en: \"Ah\"\n",
      "en: \"ah\"\n"
     ]
    }
   ],
   "source": [
    "fr_word2vec = Word2Vec(fr_embeddings_path, vocab_size=50000)\n",
    "en_word2vec = Word2Vec(en_embeddings_path, vocab_size=50000)\n",
    "\n",
    "multilingual_word_aligner = MultilingualWordAligner(fr_word2vec, en_word2vec)\n",
    "\n",
    "# You will be evaluated on the output of the following:\n",
    "fr_words = ['chat', 'chien', 'voiture', 'zut']\n",
    "k = 3\n",
    "for fr_word in fr_words:\n",
    "    print('-' * 10)\n",
    "    print(f'fr: \"{fr_word}\"')\n",
    "    en_words = multilingual_word_aligner.get_closest_english_words(fr_word, k=3)\n",
    "    for en_word in en_words:\n",
    "        print(f'en: \"{en_word}\"')"
   ]
  },
  {
   "cell_type": "markdown",
   "metadata": {},
   "source": [
    "If you want to dive deeper on this subject: https://github.com/facebookresearch/MUSE"
   ]
  },
  {
   "cell_type": "markdown",
   "metadata": {},
   "source": [
    "# 3) Sentence classification with BoV and scikit-learn"
   ]
  },
  {
   "cell_type": "code",
   "execution_count": 27,
   "metadata": {},
   "outputs": [],
   "source": [
    "# 1 - Load train/dev/test of Stanford Sentiment TreeBank (SST)\n",
    "#     (https://nlp.stanford.edu/~socherr/EMNLP2013_RNTN.pdf)\n",
    "train_filepath = PATH_TO_DATA / 'SST/stsa.fine.train'\n",
    "dev_filepath = PATH_TO_DATA / 'SST/stsa.fine.dev'\n",
    "test_filepath = PATH_TO_DATA / 'SST/stsa.fine.test.X'\n",
    "\n",
    "def process_line(line):\n",
    "    try:\n",
    "        sentiment = int(line[0])\n",
    "    except ValueError:\n",
    "        print(line)\n",
    "        print(\"errored on\", line[0])\n",
    "        return\n",
    "    sent = line[1:]\n",
    "    return [sentiment, sent]\n",
    "\n",
    "with open(train_filepath, 'r') as f:\n",
    "    sentiment_train, sentences_train = zip(*[process_line(line.strip('\\n')) for line in f])\n",
    "    sentences_train = list(sentences_train)\n",
    "    sentiment_train = np.asarray(sentiment_train)\n",
    "with open(dev_filepath, 'r') as f:\n",
    "    sentiment_dev, sentences_dev = zip(*[process_line(line.strip('\\n')) for line in f])\n",
    "    sentences_dev = list(sentences_dev)\n",
    "    sentiment_dev = np.asarray(sentiment_dev)\n",
    "with open(test_filepath, 'r') as f:\n",
    "    ## No processing to do here\n",
    "    sentences_test = [line.strip('\\n') for line in f]"
   ]
  },
  {
   "cell_type": "code",
   "execution_count": 28,
   "metadata": {},
   "outputs": [
    {
     "name": "stdout",
     "output_type": "stream",
     "text": [
      "Loaded 50000 pretrained word vectors\n"
     ]
    }
   ],
   "source": [
    "# 2 - Encode sentences with the BoV model above\n",
    "\n",
    "word2vec = Word2Vec(en_embeddings_path, vocab_size=50000)\n",
    "sentence2vec = BagOfWords(word2vec)\n",
    "\n",
    "data_embed_train = np.vstack([\n",
    "    sentence2vec.encode(sent, idf=idf) for sent in sentences_train\n",
    "])\n",
    "\n",
    "data_embed_dev = np.vstack([\n",
    "    sentence2vec.encode(sent, idf=idf) for sent in sentences_dev\n",
    "])\n",
    "\n",
    "data_embed_test = np.vstack([\n",
    "    sentence2vec.encode(sent, idf=idf) for sent in sentences_test\n",
    "])\n",
    "\n",
    "# Normalize data\n",
    "from sklearn.preprocessing import scale\n",
    "\n",
    "data_embed_train = scale(data_embed_train, axis=0)\n",
    "data_embed_dev = scale(data_embed_dev, axis=0)\n",
    "data_embed_test = scale(data_embed_test, axis=0)"
   ]
  },
  {
   "cell_type": "code",
   "execution_count": 32,
   "metadata": {},
   "outputs": [
    {
     "name": "stdout",
     "output_type": "stream",
     "text": [
      "{'C': 0.01}\n",
      "Train score: 0.4563436329588015. Dev score: 0.38782924613987285\n",
      "{'C': 0.02}\n",
      "Train score: 0.4550561797752809. Dev score: 0.38419618528610355\n",
      "{'C': 0.05}\n",
      "Train score: 0.4579822097378277. Dev score: 0.3860127157129882\n",
      "{'C': 0.1}\n",
      "Train score: 0.4575140449438202. Dev score: 0.3896457765667575\n",
      "{'C': 0.2}\n",
      "Train score: 0.45692883895131087. Dev score: 0.3923705722070845\n",
      "{'C': 0.3}\n",
      "Train score: 0.45669475655430714. Dev score: 0.3896457765667575\n",
      "{'C': 0.5}\n",
      "Train score: 0.45739700374531833. Dev score: 0.3887375113533152\n"
     ]
    }
   ],
   "source": [
    "# 3 - Learn Logistic Regression on top of sentence embeddings using scikit-learn\n",
    "#     (consider tuning the L2 regularization on the dev set)\n",
    "#     In the paper, the accuracy for average of word vectors is 32.7%\n",
    "#     (VecAvg, table 1, https://nlp.stanford.edu/~socherr/EMNLP2013_RNTN.pdf)\n",
    "from sklearn.linear_model import LogisticRegression\n",
    "from sklearn import model_selection\n",
    "\n",
    "params = {\n",
    "    'C': [0.01, 0.02, 0.05, 0.1, 0.2, 0.3, 0.5]\n",
    "}\n",
    "\n",
    "param_list = model_selection.ParameterGrid(params)\n",
    "\n",
    "results_ = []\n",
    "regressors_ = []\n",
    "\n",
    "for p in param_list:\n",
    "    regressor = LogisticRegression(solver='liblinear', **p)\n",
    "    print(p)\n",
    "    regressor.fit(data_embed_train, sentiment_train)\n",
    "    trscore = regressor.score(data_embed_train, sentiment_train)\n",
    "    devscore = regressor.score(data_embed_dev, sentiment_dev)\n",
    "    print(\"Train score:\", trscore, end='. ')\n",
    "    print(\"Dev score:\", devscore)\n",
    "    regressors_.append(regressor)\n",
    "    results_.append({\n",
    "        'C': p['C'],\n",
    "        'train': trscore,\n",
    "        'dev': devscore\n",
    "    })\n",
    "\n",
    "results_ = np.array([\n",
    "    [d['C'], d['train'], d['dev']]\n",
    "    for d in results_\n",
    "])"
   ]
  },
  {
   "cell_type": "code",
   "execution_count": 33,
   "metadata": {},
   "outputs": [
    {
     "name": "stdout",
     "output_type": "stream",
     "text": [
      "best C: 0.2\n",
      "4\n",
      "[1 3 2 ... 4 3 0]\n"
     ]
    }
   ],
   "source": [
    "best_CV = np.max(results_[:, 2])  # get best CV value\n",
    "# filter on being best CV\n",
    "result_best_CV = results_[results_[:,2] == best_CV]\n",
    "# get C with matching best CV and best train score\n",
    "best_C = result_best_CV[np.argmax(result_best_CV[:,1]), 0]\n",
    "print(\"best C:\", best_C)\n",
    "best_idx = np.argwhere(results_[:,0] == best_C)[0,0]\n",
    "print(best_idx)\n",
    "\n",
    "regressor_best = regressors_[best_idx]\n",
    "\n",
    "# 4 - Produce 2210 predictions for the test set (in the same order). One line = one prediction (=0,1,2,3,4).\n",
    "#     Attach the output file \"logreg_bov_y_test_sst.txt\" to your deliverable.\n",
    "#     You will be evaluated on the results of the test set.\n",
    "\n",
    "test_predict_ = regressor_best.predict(data_embed_test)\n",
    "print(test_predict_)\n",
    "\n",
    "with open(\"logreg_bov_y_test_sst.txt\", 'w') as f:\n",
    "    for p in test_predict_:\n",
    "        f.write(str(p) + '\\n')"
   ]
  },
  {
   "cell_type": "code",
   "execution_count": 34,
   "metadata": {},
   "outputs": [
    {
     "name": "stdout",
     "output_type": "stream",
     "text": [
      "Train score: 0.6711142322097379\n",
      "Dev score: 0.38056312443233425\n",
      "[1 3 2 ... 4 3 0]\n"
     ]
    }
   ],
   "source": [
    "# BONUS!\n",
    "# 5 - Try to improve performance with another classifier\n",
    "#     Attach the output file \"XXX_bov_y_test_sst.txt\" to your deliverable (where XXX = the name of the classifier)\n",
    "from sklearn.neural_network import MLPClassifier\n",
    "from sklearn.pipeline import make_pipeline\n",
    "\n",
    "model = MLPClassifier(random_state=10,\n",
    "                      hidden_layer_sizes=(128,),\n",
    "                      alpha=1e-1, early_stopping=True)\n",
    "\n",
    "model.fit(data_embed_train, sentiment_train)\n",
    "\n",
    "train_score = np.mean(model.predict(data_embed_train) == sentiment_train)\n",
    "print(\"Train score:\", train_score)\n",
    "dev_score = np.mean(model.predict(data_embed_dev) == sentiment_dev)\n",
    "print(\"Dev score:\", dev_score)\n",
    "\n",
    "test_predict_ = regressor_best.predict(data_embed_test)\n",
    "print(test_predict_)\n",
    "\n",
    "with open(\"percept_bov_y_test_sst.txt\", 'w') as f:\n",
    "    for p in test_predict_:\n",
    "        f.write(str(p) + '\\n')"
   ]
  },
  {
   "cell_type": "markdown",
   "metadata": {},
   "source": [
    "# 4) Sentence classification with LSTMs in Keras"
   ]
  },
  {
   "cell_type": "markdown",
   "metadata": {},
   "source": [
    "## 4.1 - Preprocessing"
   ]
  },
  {
   "cell_type": "code",
   "execution_count": 35,
   "metadata": {},
   "outputs": [],
   "source": [
    "import tensorflow as tf"
   ]
  },
  {
   "cell_type": "code",
   "execution_count": 36,
   "metadata": {},
   "outputs": [],
   "source": [
    "# 1 - Using the same dataset, transform text to integers using tf.keras.preprocessing.text.one_hot function\n",
    "#     https://keras.io/preprocessing/text/\n",
    "from tensorflow.keras.preprocessing import text"
   ]
  },
  {
   "cell_type": "code",
   "execution_count": 37,
   "metadata": {},
   "outputs": [],
   "source": [
    "vocab_size = 50000  # size of the vocabulary\n",
    "sequence_train = [text.one_hot(sent, vocab_size) for sent in sentences_train]\n",
    "sequence_dev = [text.one_hot(sent, vocab_size) for sent in sentences_dev]\n",
    "sequence_test = [text.one_hot(sent, vocab_size) for sent in sentences_test]"
   ]
  },
  {
   "cell_type": "markdown",
   "metadata": {},
   "source": [
    "**Padding input data**\n",
    "\n",
    "Models in Keras (and elsewhere) take batches of sentences of the same length as input. It is because Deep Learning framework have been designed to handle well Tensors, which are particularly suited for fast computation on the GPU.\n",
    "\n",
    "Since sentences have different sizes, we \"pad\" them. That is, we add dummy \"padding\" tokens so that they all have the same length.\n",
    "\n",
    "The input to a Keras model thus has this size : (batchsize, maxseqlen) where maxseqlen is the maximum length of a sentence in the batch."
   ]
  },
  {
   "cell_type": "code",
   "execution_count": 38,
   "metadata": {},
   "outputs": [],
   "source": [
    "# 2 - Pad your sequences using tf.keras.preprocessing.sequence.pad_sequences\n",
    "#     https://keras.io/preprocessing/sequence/\n",
    "\n",
    "from tensorflow.keras.preprocessing.sequence import pad_sequences"
   ]
  },
  {
   "cell_type": "code",
   "execution_count": 39,
   "metadata": {},
   "outputs": [],
   "source": [
    "sequence_train = pad_sequences(sequence_train)\n",
    "sequence_dev = pad_sequences(sequence_dev)\n",
    "sequence_test = pad_sequences(sequence_test)"
   ]
  },
  {
   "cell_type": "code",
   "execution_count": 40,
   "metadata": {},
   "outputs": [],
   "source": [
    "y_train = tf.one_hot(sentiment_train, 5).numpy()\n",
    "y_dev = tf.one_hot(sentiment_dev, 5).numpy()"
   ]
  },
  {
   "cell_type": "markdown",
   "metadata": {},
   "source": [
    "## 4.2 - Design and train your model"
   ]
  },
  {
   "cell_type": "code",
   "execution_count": 41,
   "metadata": {},
   "outputs": [],
   "source": [
    "# 3 - Design your encoder + classifier using tensorflow.keras.layers\n",
    "#     In Keras, Torch and other deep learning framework, we create a \"container\" which is the Sequential() module.\n",
    "#     Then we add components to this container : the lookup-table, the LSTM, the classifier etc.\n",
    "#     All of these components are contained in the Sequential() and are trained together.\n",
    "#     Note that the embedding layer is initialized randomly and does not take advantage of pre-trained word embeddings.\n",
    "\n",
    "# ADAPT CODE BELOW\n",
    "from tensorflow.keras.models import Sequential\n",
    "from tensorflow.keras.layers import Embedding, LSTM, Dense, Activation\n",
    "\n",
    "embed_dim  = 32  # word embedding dimension\n",
    "nhid       = 64 # number of hidden units in the LSTM\n",
    "vocab_size = 50000  # size of the vocabulary\n",
    "n_classes  = 5\n",
    "\n",
    "model = Sequential()\n",
    "model.add(Embedding(vocab_size+1, embed_dim, mask_zero=True))\n",
    "model.add(LSTM(nhid, dropout=0.2, recurrent_dropout=0.2))\n",
    "model.add(Dense(n_classes, activation='sigmoid'))"
   ]
  },
  {
   "cell_type": "code",
   "execution_count": 42,
   "metadata": {},
   "outputs": [
    {
     "name": "stdout",
     "output_type": "stream",
     "text": [
      "Model: \"sequential\"\n",
      "_________________________________________________________________\n",
      "Layer (type)                 Output Shape              Param #   \n",
      "=================================================================\n",
      "embedding (Embedding)        (None, None, 32)          1600032   \n",
      "_________________________________________________________________\n",
      "lstm (LSTM)                  (None, 64)                24832     \n",
      "_________________________________________________________________\n",
      "dense (Dense)                (None, 5)                 325       \n",
      "=================================================================\n",
      "Total params: 1,625,189\n",
      "Trainable params: 1,625,189\n",
      "Non-trainable params: 0\n",
      "_________________________________________________________________\n",
      "None\n"
     ]
    }
   ],
   "source": [
    "# 4 - Define your loss/optimizer/metrics\n",
    "\n",
    "# MODIFY CODE BELOW\n",
    "\n",
    "loss_classif     =  'categorical_crossentropy' # find the right loss for multi-class classification\n",
    "optimizer        =  'adam' # find the right optimizer\n",
    "metrics_classif  =  ['accuracy']\n",
    "\n",
    "# Observe how easy (but blackboxed) this is in Keras\n",
    "model.compile(loss=loss_classif,\n",
    "              optimizer=optimizer,\n",
    "              metrics=metrics_classif)\n",
    "print(model.summary())"
   ]
  },
  {
   "cell_type": "code",
   "execution_count": 21,
   "metadata": {},
   "outputs": [
    {
     "name": "stdout",
     "output_type": "stream",
     "text": [
      "WARNING:tensorflow:The `nb_epoch` argument in `fit` has been renamed `epochs`.\n",
      "Train on 8544 samples, validate on 1101 samples\n",
      "Epoch 1/6\n",
      "8544/8544 [==============================] - 18s 2ms/sample - loss: 1.5793 - accuracy: 0.2808 - val_loss: 1.5694 - val_accuracy: 0.2570\n",
      "Epoch 2/6\n",
      "8544/8544 [==============================] - 16s 2ms/sample - loss: 1.5329 - accuracy: 0.3158 - val_loss: 1.4649 - val_accuracy: 0.3551\n",
      "Epoch 3/6\n",
      "8544/8544 [==============================] - 16s 2ms/sample - loss: 1.3368 - accuracy: 0.4199 - val_loss: 1.3716 - val_accuracy: 0.3887\n",
      "Epoch 4/6\n",
      "8544/8544 [==============================] - 17s 2ms/sample - loss: 1.1368 - accuracy: 0.4795 - val_loss: 1.3876 - val_accuracy: 0.3806\n",
      "Epoch 5/6\n",
      "8544/8544 [==============================] - 18s 2ms/sample - loss: 0.9947 - accuracy: 0.5344 - val_loss: 1.4741 - val_accuracy: 0.3651\n",
      "Epoch 6/6\n",
      "8544/8544 [==============================] - 19s 2ms/sample - loss: 0.8634 - accuracy: 0.5825 - val_loss: 1.6509 - val_accuracy: 0.3615\n"
     ]
    }
   ],
   "source": [
    "# 5 - Train your model and find the best hyperparameters for your dev set\n",
    "#     you will be evaluated on the quality of your predictions on the test set\n",
    "#     Keras expects y_train and y_dev to be one-hot encodings of the labels, i.e. with shape=(n_samples, 5)\n",
    "\n",
    "\n",
    "# ADAPT CODE BELOW\n",
    "bs = 128\n",
    "n_epochs = 6\n",
    "\n",
    "history = model.fit(sequence_train, y_train,\n",
    "                    batch_size=bs, nb_epoch=n_epochs,\n",
    "                    validation_data=(sequence_dev, y_dev))"
   ]
  },
  {
   "cell_type": "code",
   "execution_count": 40,
   "metadata": {},
   "outputs": [
    {
     "data": {
      "image/png": "[encoded data removed]",
      "text/plain": [
       "<Figure size 432x288 with 1 Axes>"
      ]
     },
     "metadata": {
      "image/png": {
       "height": 263,
       "width": 372
      },
      "needs_background": "light"
     },
     "output_type": "display_data"
    },
    {
     "data": {
      "image/png": "[encoded data removed]",
      "text/plain": [
       "<Figure size 432x288 with 1 Axes>"
      ]
     },
     "metadata": {
      "image/png": {
       "height": 263,
       "width": 378
      },
      "needs_background": "light"
     },
     "output_type": "display_data"
    }
   ],
   "source": [
    "import matplotlib.pyplot as plt\n",
    "fig = plt.figure()\n",
    "plt.plot(history.history['loss'], label=\"Training loss\")\n",
    "plt.plot(history.history['val_loss'], label=\"Validation loss\")\n",
    "plt.legend()\n",
    "plt.title(\"Loss\")\n",
    "\n",
    "fig.savefig('images/loss.png')\n",
    "\n",
    "fig = plt.figure()\n",
    "plt.plot(history.history['accuracy'], label=\"Training acc\")\n",
    "plt.plot(history.history['val_accuracy'], label=\"Validation acc\")\n",
    "plt.legend()\n",
    "plt.title(\"Accuracy\");\n",
    "\n",
    "fig.savefig('images/accuracy.png')"
   ]
  },
  {
   "cell_type": "code",
   "execution_count": null,
   "metadata": {},
   "outputs": [],
   "source": [
    "# 6 - Generate your predictions on the test set using model.predict(x_test)\n",
    "#     https://keras.io/models/model/\n",
    "#     Log your predictions in a file (one line = one integer: 0,1,2,3,4)\n",
    "#     Attach the output file \"logreg_lstm_y_test_sst.txt\" to your deliverable.\n",
    "\n",
    "# TYPE CODE HERE"
   ]
  },
  {
   "cell_type": "markdown",
   "metadata": {},
   "source": [
    "## 4.3 - innovate !"
   ]
  },
  {
   "cell_type": "code",
   "execution_count": null,
   "metadata": {},
   "outputs": [],
   "source": [
    "# 7 - Open question: find a model that is better on your dev set\n",
    "#     (e.g: use a 1D ConvNet, use a better classifier, pretrain your lookup tables ..)\n",
    "#     you will get point if the results on the test set are better: be careful of not overfitting your dev set too much..\n",
    "#     Attach the output file \"XXX_XXX_y_test_sst.txt\" to your deliverable.\n",
    "\n",
    "# TYPE CODE HERE"
   ]
  }
 ],
 "metadata": {
  "kernelspec": {
   "display_name": "Python [conda env:tf]",
   "language": "python",
   "name": "conda-env-tf-py"
  },
  "language_info": {
   "codemirror_mode": {
    "name": "ipython",
    "version": 3
   },
   "file_extension": ".py",
   "mimetype": "text/x-python",
   "name": "python",
   "nbconvert_exporter": "python",
   "pygments_lexer": "ipython3",
   "version": "3.7.6"
  }
 },
 "nbformat": 4,
 "nbformat_minor": 4
}
