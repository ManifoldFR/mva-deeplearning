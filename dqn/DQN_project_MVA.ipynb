{
 "cells": [
  {
   "cell_type": "markdown",
   "metadata": {},
   "source": [
    "**You may need to install [OpenCV](https://pypi.python.org/pypi/opencv-python) and [scikit-video](http://www.scikit-video.org/stable/).**"
   ]
  },
  {
   "cell_type": "code",
   "execution_count": 1,
   "metadata": {},
   "outputs": [
    {
     "name": "stderr",
     "output_type": "stream",
     "text": [
      "Using TensorFlow backend.\n"
     ]
    }
   ],
   "source": [
    "import keras\n",
    "import numpy as np\n",
    "import io\n",
    "import base64\n",
    "from IPython.display import HTML\n",
    "import skvideo.io\n",
    "import cv2\n",
    "import json\n",
    "\n",
    "from keras.models import Sequential,model_from_json\n",
    "from keras.layers.core import Dense\n",
    "from keras.optimizers import sgd\n",
    "from keras.layers import Conv2D, MaxPooling2D, Activation, AveragePooling2D,Reshape,BatchNormalization"
   ]
  },
  {
   "cell_type": "markdown",
   "metadata": {},
   "source": [
    "# MiniProject on Deep Reinforcement Learning"
   ]
  },
  {
   "cell_type": "markdown",
   "metadata": {},
   "source": [
    "__Notations__: $E_p$ is the expectation under probability $p$. Please justify each of your answer and widely comment your code."
   ]
  },
  {
   "cell_type": "markdown",
   "metadata": {},
   "source": [
    "# Context"
   ]
  },
  {
   "cell_type": "markdown",
   "metadata": {},
   "source": [
    "In a reinforcement learning algorithm, we modelize each step $t$ as an action $a_t$ obtained from a state $s_t$, i.e. $\\{(a_{t},s_{t})_{t\\leq T}\\}$ having the Markov property. We consider a discount factor $\\gamma \\in [0,1]$ that ensures convergence. The goal is to find among all the policies $\\pi$, one that maximizes the expected reward:\n",
    "\n",
    "\\begin{equation*}\n",
    "R(\\pi)=\\sum_{t\\leq T}E_{p^{\\pi}}[\\gamma^t r(s_{t},a_{t})] \\> ,\n",
    "\\end{equation*}\n",
    "\n",
    "where: \n",
    "\\begin{equation*}p^{\\pi}(a_{0},a_{1},s_{1},...,a_{T},s_{T})=p(a_{0})\\prod_{t=1}^{T}\\pi(a_{t}|s_{t})p(s_{t+1}|s_{t},a_{t}) \\> .\n",
    "\\end{equation*}\n",
    "\n",
    "We note the $Q$-function:\n",
    "\n",
    "\\begin{equation*}\n",
    "    Q^\\pi(s,a)=E_{p^{\\pi}}\\left[\n",
    "    \\sum_{t\\leq T}\\gamma^{t}r(s_{t},a_{t})|s_{0}=s,a_{0}=a\\right] .\n",
    "\\end{equation*}\n",
    "\n",
    "Thus, the optimal Q function is:\n",
    "\\begin{equation*}\n",
    "Q^*(s,a)=\\max_{\\pi}Q^\\pi(s,a) \\> .\n",
    "\\end{equation*}\n",
    "\n",
    "In this project, we will apply the deep reinforcement learning techniques to a simple game: an agent will have to learn from scratch a policy that will permit it maximizing a reward."
   ]
  },
  {
   "cell_type": "markdown",
   "metadata": {},
   "source": [
    "## The environment, the agent and the game"
   ]
  },
  {
   "cell_type": "markdown",
   "metadata": {},
   "source": [
    "### The environment"
   ]
  },
  {
   "cell_type": "markdown",
   "metadata": {},
   "source": [
    "```Environment``` is an abstract class that represents the states, rewards, and actions to obtain the new state."
   ]
  },
  {
   "cell_type": "code",
   "execution_count": 2,
   "metadata": {},
   "outputs": [],
   "source": [
    "class Environment(object):\n",
    "    def __init__(self):\n",
    "        pass\n",
    "\n",
    "    def act(self, act):\n",
    "        \"\"\"\n",
    "        One can act on the environment and obtain its reaction:\n",
    "        - the new state\n",
    "        - the reward of the new state\n",
    "        - should we continue the game?\n",
    "\n",
    "        :return: state, reward, game_over\n",
    "        \"\"\"\n",
    "        pass\n",
    "\n",
    "\n",
    "    def reset(self):\n",
    "        \"\"\"\n",
    "        Reinitialize the environment to a random state and returns\n",
    "        the original state\n",
    "\n",
    "        :return: state\n",
    "        \"\"\"\n",
    "        pass\n",
    "    \n",
    "    def draw(self):\n",
    "        \"\"\"\n",
    "        Visualize in the console or graphically the current state\n",
    "        \"\"\"\n",
    "        pass"
   ]
  },
  {
   "cell_type": "markdown",
   "metadata": {},
   "source": [
    "The method ```act``` allows to act on the environment at a given state $s_t$ (stored internally), via action $a_t$. The method will return the new state $s_{t+1}$, the reward $r(s_{t},a_{t})$ and determines if $t\\leq T$ (*game_over*).\n",
    "\n",
    "The method ```reset``` simply reinitializes the environment to a random state $s_0$.\n",
    "\n",
    "The method ```draw``` displays the current state $s_t$ (this is useful to check the behavior of the Agent).\n",
    "\n",
    "We modelize $s_t$ as a tensor, while $a_t$ is an integer."
   ]
  },
  {
   "cell_type": "markdown",
   "metadata": {},
   "source": [
    "### The Agent"
   ]
  },
  {
   "cell_type": "markdown",
   "metadata": {},
   "source": [
    "The goal of the ```Agent``` is to interact with the ```Environment``` by proposing actions $a_t$ obtained from a given state $s_t$ to attempt to maximize its __reward__ $r(s_t,a_t)$. We propose the following abstract class:"
   ]
  },
  {
   "cell_type": "code",
   "execution_count": 3,
   "metadata": {},
   "outputs": [],
   "source": [
    "class Agent(object):\n",
    "    def __init__(self, epsilon=0.1, n_action=4):\n",
    "        self.epsilon = epsilon\n",
    "        self.n_action = n_action\n",
    "    \n",
    "    def set_epsilon(self,e):\n",
    "        self.epsilon = e\n",
    "\n",
    "    def act(self,s,train=True):\n",
    "        \"\"\" This function should return the next action to do:\n",
    "        an integer between 0 and 4 (not included) with a random exploration of epsilon\"\"\"\n",
    "        if train:\n",
    "            if np.random.rand() <= self.epsilon:\n",
    "                a = np.random.randint(0, self.n_action, size=1)[0]\n",
    "            else:\n",
    "                a = self.learned_act(s)\n",
    "        else: # in some cases, this can improve the performance.. remove it if poor performances\n",
    "            a = self.learned_act(s)\n",
    "\n",
    "        return a\n",
    "\n",
    "    def learned_act(self,s):\n",
    "        \"\"\" Act via the policy of the agent, from a given state s\n",
    "        it proposes an action a\"\"\"\n",
    "        pass\n",
    "\n",
    "    def reinforce(self, s, n_s, a, r, game_over_):\n",
    "        \"\"\" This function is the core of the learning algorithm. \n",
    "        It takes as an input the current state s_, the next state n_s_\n",
    "        the action a_ used to move from s_ to n_s_ and the reward r_.\n",
    "        \n",
    "        Its goal is to learn a policy.\n",
    "        \"\"\"\n",
    "        pass\n",
    "\n",
    "    def save(self):\n",
    "        \"\"\" This function returns basic stats if applicable: the\n",
    "        loss and/or the model\"\"\"\n",
    "        pass\n",
    "\n",
    "    def load(self):\n",
    "        \"\"\" This function allows to restore a model\"\"\"\n",
    "        pass"
   ]
  },
  {
   "cell_type": "markdown",
   "metadata": {},
   "source": [
    "***\n",
    "__Question 1__:\n",
    "Explain the function act. Why is ```epsilon``` essential?"
   ]
  },
  {
   "cell_type": "markdown",
   "metadata": {},
   "source": [
    "**Answer** With probability $\\epsilon$, the agent takes an action at random (with equiprobability). Otherwise, the agent takes the prescribed agent under the learned policy. $\\epsilon$ is essential because it makes the agent _explore_ other possibilities while training."
   ]
  },
  {
   "cell_type": "markdown",
   "metadata": {},
   "source": [
    "***\n",
    "### The Game"
   ]
  },
  {
   "cell_type": "markdown",
   "metadata": {},
   "source": [
    "The ```Agent``` and the ```Environment``` work in an interlaced way as in the following (take some time to understand this code as it is the core of the project)\n",
    "\n",
    "```python\n",
    "\n",
    "epoch = 300\n",
    "env = Environment()\n",
    "agent = Agent()\n",
    "\n",
    "\n",
    "# Number of won games\n",
    "score = 0\n",
    "loss = 0\n",
    "\n",
    "\n",
    "for e in range(epoch):\n",
    "    # At each epoch, we restart to a fresh game and get the initial state\n",
    "    state = env.reset()\n",
    "    # This assumes that the games will end\n",
    "    game_over = False\n",
    "\n",
    "    win = 0\n",
    "    lose = 0\n",
    "    \n",
    "    while not game_over:\n",
    "        # The agent performs an action\n",
    "        action = agent.act(state)\n",
    "\n",
    "        # Apply an action to the environment, get the next state, the reward\n",
    "        # and if the games end\n",
    "        prev_state = state\n",
    "        state, reward, game_over = env.act(action)\n",
    "\n",
    "        # Update the counters\n",
    "        if reward > 0:\n",
    "            win = win + reward\n",
    "        if reward < 0:\n",
    "            lose = lose -reward\n",
    "\n",
    "        # Apply the reinforcement strategy\n",
    "        loss = agent.reinforce(prev_state, state,  action, reward, game_over)\n",
    "\n",
    "    # Save as a mp4\n",
    "    if e % 10 == 0:\n",
    "        env.draw(e)\n",
    "\n",
    "    # Update stats\n",
    "    score += win-lose\n",
    "\n",
    "    print(\"Epoch {:03d}/{:03d} | Loss {:.4f} | Win/lose count {}/{} ({})\"\n",
    "          .format(e, epoch, loss, win, lose, win-lose))\n",
    "    agent.save()\n",
    "```"
   ]
  },
  {
   "cell_type": "markdown",
   "metadata": {},
   "source": [
    "# The game, *eat cheese*"
   ]
  },
  {
   "cell_type": "markdown",
   "metadata": {},
   "source": [
    "A rat runs on an island and tries to eat as much as possible. The island is subdivided into $N\\times N$ cells, in which there are cheese (+0.5) and poisonous cells (-1). The rat has a visibility of 2 cells (thus it can see $5^2$ cells). The rat is given a time $T$ to accumulate as much food as possible. It can perform 4 actions: going up, down, left, right. \n",
    "\n",
    "The goal is to code an agent to solve this task that will learn by trial and error. We propose the following environment:"
   ]
  },
  {
   "cell_type": "code",
   "execution_count": 4,
   "metadata": {},
   "outputs": [],
   "source": [
    "class Environment(object):\n",
    "    def __init__(self, grid_size=10, max_time=500, temperature=0.1):\n",
    "        grid_size = grid_size+4\n",
    "        self.grid_size = grid_size\n",
    "        self.max_time = max_time\n",
    "        self.temperature = temperature\n",
    "\n",
    "        #board on which one plays\n",
    "        self.board = np.zeros((grid_size,grid_size))\n",
    "        self.position = np.zeros((grid_size,grid_size))\n",
    "\n",
    "        # coordinate of the cat\n",
    "        self.x = 0\n",
    "        self.y = 1\n",
    "\n",
    "        # self time\n",
    "        self.t = 0\n",
    "\n",
    "        self.scale=16\n",
    "\n",
    "        self.to_draw = np.zeros((max_time+2, grid_size*self.scale,\n",
    "                                 grid_size*self.scale, 3))\n",
    "\n",
    "\n",
    "    def draw(self,e):\n",
    "        skvideo.io.vwrite(str(e) + '.mp4', self.to_draw)\n",
    "\n",
    "    def get_frame(self,t):\n",
    "        b = np.zeros((self.grid_size,self.grid_size,3))+128\n",
    "        b[self.board>0,0] = 256  # cheese is red :)\n",
    "        b[self.board<0,2] = 256  # poison is blue :(\n",
    "        b[self.x,self.y,:]= 256\n",
    "        b[-2:,:,:]=0\n",
    "        b[:,-2:,:]=0\n",
    "        b[:2,:,:]=0\n",
    "        b[:,:2,:]=0\n",
    "        \n",
    "        b =  cv2.resize(b, None, fx=self.scale, fy=self.scale,\n",
    "                        interpolation=cv2.INTER_NEAREST)\n",
    "\n",
    "        self.to_draw[t,:,:,:]=b\n",
    "\n",
    "\n",
    "    def act(self, action):\n",
    "        \"\"\"This function returns the new state, reward and decides if the\n",
    "        game ends.\"\"\"\n",
    "\n",
    "        self.get_frame(int(self.t))\n",
    "\n",
    "        self.position = np.zeros((self.grid_size, self.grid_size))\n",
    "\n",
    "        self.position[0:2,:]= -1\n",
    "        self.position[:,0:2] = -1\n",
    "        self.position[-2:, :] = -1\n",
    "        # self.position[-2:, :] = -1\n",
    "        self.position[:, -2:] = -1\n",
    "        \n",
    "        self.position[self.x, self.y] = 1\n",
    "        if action == 0:\n",
    "            if self.x == self.grid_size-3:\n",
    "                self.x = self.x-1\n",
    "            else:\n",
    "                self.x = self.x + 1\n",
    "        elif action == 1:\n",
    "            if self.x == 2:\n",
    "                self.x = self.x+1\n",
    "            else:\n",
    "                self.x = self.x-1\n",
    "        elif action == 2:\n",
    "            if self.y == self.grid_size - 3:\n",
    "                self.y = self.y - 1\n",
    "            else:\n",
    "                self.y = self.y + 1\n",
    "        elif action == 3:\n",
    "            if self.y == 2:\n",
    "                self.y = self.y + 1\n",
    "            else:\n",
    "                self.y = self.y - 1\n",
    "        else:\n",
    "            RuntimeError('Error: action not recognized')\n",
    "\n",
    "        self.t = self.t + 1\n",
    "        reward = self.board[self.x, self.y]\n",
    "        self.board[self.x, self.y] = 0\n",
    "        game_over = self.t > self.max_time\n",
    "        state = np.concatenate((self.board.reshape(self.grid_size, self.grid_size,1),\n",
    "                        self.position.reshape(self.grid_size, self.grid_size,1)),axis=2)\n",
    "        state = state[self.x-2:self.x+3,self.y-2:self.y+3,:]\n",
    "\n",
    "        return state, reward, game_over\n",
    "\n",
    "    def reset(self):\n",
    "        \"\"\"This function resets the game and returns the initial state\"\"\"\n",
    "\n",
    "        self.x = np.random.randint(3, self.grid_size-3, size=1)[0]\n",
    "        self.y = np.random.randint(3, self.grid_size-3, size=1)[0]\n",
    "\n",
    "\n",
    "        bonus = 0.5*np.random.binomial(1,self.temperature,size=self.grid_size**2)\n",
    "        bonus = bonus.reshape(self.grid_size,self.grid_size)\n",
    "\n",
    "        malus = -1.0*np.random.binomial(1,self.temperature,size=self.grid_size**2)\n",
    "        malus = malus.reshape(self.grid_size, self.grid_size)\n",
    "\n",
    "        self.to_draw = np.zeros((self.max_time+2, self.grid_size*self.scale, self.grid_size*self.scale, 3))\n",
    "\n",
    "\n",
    "        malus[bonus>0]=0\n",
    "\n",
    "        self.board = bonus + malus\n",
    "\n",
    "        self.position = np.zeros((self.grid_size, self.grid_size))\n",
    "        self.position[0:2,:]= -1\n",
    "        self.position[:,0:2] = -1\n",
    "        self.position[-2:, :] = -1\n",
    "        # self.position[-2:, :] = -1\n",
    "        self.position[:, -2:] = -1\n",
    "        self.board[self.x,self.y] = 0\n",
    "        self.t = 0\n",
    "\n",
    "        state = np.concatenate((\n",
    "                        self.board.reshape(self.grid_size, self.grid_size,1),\n",
    "                        self.position.reshape(self.grid_size, self.grid_size,1)),axis=2)\n",
    "\n",
    "        state = state[self.x - 2:self.x + 3, self.y - 2:self.y + 3, :]\n",
    "        return state"
   ]
  },
  {
   "cell_type": "markdown",
   "metadata": {},
   "source": [
    "The following elements are important because they correspond to the hyper parameters for this project:"
   ]
  },
  {
   "cell_type": "code",
   "execution_count": 5,
   "metadata": {},
   "outputs": [],
   "source": [
    "# parameters\n",
    "size = 13\n",
    "T=200\n",
    "temperature=0.3\n",
    "epochs_train=30 # set small when debugging\n",
    "epochs_test=30 # set small when debugging\n",
    "\n",
    "# display videos\n",
    "def display_videos(name):\n",
    "    video = io.open(name, 'r+b').read()\n",
    "    encoded = base64.b64encode(video)\n",
    "    return '''<video alt=\"test\" controls>\n",
    "                <source src=\"data:video/mp4;base64,{0}\" type=\"video/mp4\" />\n",
    "             </video>'''.format(encoded.decode('ascii'))"
   ]
  },
  {
   "cell_type": "markdown",
   "metadata": {},
   "source": [
    "__Question 2__ Explain the use of the arrays ```position``` and ```board```."
   ]
  },
  {
   "cell_type": "markdown",
   "metadata": {},
   "source": [
    "`position[i, j]` indicates whether the agent is at $(i,j)$ or not.  \n",
    "`board[i, j]` indicates the state of the board at $(i,j)$ - whether there is cheese, poison, or nothing."
   ]
  },
  {
   "cell_type": "markdown",
   "metadata": {},
   "source": [
    "## Random Agent"
   ]
  },
  {
   "cell_type": "markdown",
   "metadata": {},
   "source": [
    "***\n",
    "__Question 3__ Implement a random Agent (only ```learned_act``` needs to be implemented):"
   ]
  },
  {
   "cell_type": "code",
   "execution_count": 6,
   "metadata": {},
   "outputs": [],
   "source": [
    "class RandomAgent(Agent):\n",
    "    def __init__(self):\n",
    "        super(RandomAgent, self).__init__()\n",
    "        pass\n",
    "\n",
    "    def learned_act(self, s):\n",
    "        \"\"\"\n",
    "        Returns\n",
    "        -------\n",
    "        action : int\n",
    "            0 is up, 1 is down, 2 is left, and 3 is right.\n",
    "        \"\"\"\n",
    "        return np.random.randint(0, self.n_action)"
   ]
  },
  {
   "cell_type": "markdown",
   "metadata": {},
   "source": [
    "***\n",
    "***\n",
    "__Question 4__ Visualize the game moves. You need to fill in the following function for the evaluation:"
   ]
  },
  {
   "cell_type": "code",
   "execution_count": 54,
   "metadata": {},
   "outputs": [],
   "source": [
    "def test(agent, env, epochs, prefix=''):\n",
    "    # Number of won games\n",
    "    score = 0\n",
    "        \n",
    "    for e in range(epochs):\n",
    "        state = env.reset()\n",
    "        game_over = False\n",
    "        \n",
    "        win = 0\n",
    "        lose = 0\n",
    "        \n",
    "        while not game_over:\n",
    "            prev_state = state\n",
    "            \n",
    "            action = agent.act(prev_state, False)\n",
    "            state, reward, game_over = env.act(action)\n",
    "        \n",
    "            # Update the counters\n",
    "            if reward > 0:\n",
    "                win = win + reward\n",
    "            if reward < 0:\n",
    "                lose = lose -reward\n",
    "        \n",
    "        # Save as a mp4\n",
    "        env.draw(prefix+str(e))\n",
    "\n",
    "        # Update stats\n",
    "        score = score + win-lose\n",
    "\n",
    "        print(\"Win/lose count {}/{}. Average score ({})\"\n",
    "              .format(win, lose, score/(1+e)))\n",
    "    print('Final score: '+str(score/epochs))"
   ]
  },
  {
   "cell_type": "code",
   "execution_count": 8,
   "metadata": {},
   "outputs": [
    {
     "name": "stdout",
     "output_type": "stream",
     "text": [
      "Win/lose count 13.0/18.0. Average score (-5.0)\n",
      "Win/lose count 9.0/18.0. Average score (-7.0)\n",
      "Win/lose count 14.5/11.0. Average score (-3.5)\n",
      "Win/lose count 8.5/16.0. Average score (-4.5)\n",
      "Win/lose count 11.0/16.0. Average score (-4.6)\n",
      "Win/lose count 8.5/11.0. Average score (-4.25)\n",
      "Win/lose count 9.5/16.0. Average score (-4.571428571428571)\n",
      "Win/lose count 11.0/19.0. Average score (-5.0)\n",
      "Win/lose count 10.5/13.0. Average score (-4.722222222222222)\n",
      "Win/lose count 9.5/14.0. Average score (-4.7)\n",
      "Win/lose count 6.5/13.0. Average score (-4.863636363636363)\n",
      "Win/lose count 9.5/13.0. Average score (-4.75)\n",
      "Win/lose count 10.0/20.0. Average score (-5.153846153846154)\n",
      "Win/lose count 8.0/13.0. Average score (-5.142857142857143)\n",
      "Win/lose count 11.0/19.0. Average score (-5.333333333333333)\n",
      "Win/lose count 8.0/12.0. Average score (-5.25)\n",
      "Win/lose count 8.5/9.0. Average score (-4.970588235294118)\n",
      "Win/lose count 8.5/10.0. Average score (-4.777777777777778)\n",
      "Win/lose count 10.0/10.0. Average score (-4.526315789473684)\n",
      "Win/lose count 9.0/21.0. Average score (-4.9)\n",
      "Win/lose count 13.0/12.0. Average score (-4.619047619047619)\n",
      "Win/lose count 8.5/17.0. Average score (-4.795454545454546)\n",
      "Win/lose count 11.5/17.0. Average score (-4.826086956521739)\n",
      "Win/lose count 11.0/13.0. Average score (-4.708333333333333)\n",
      "Win/lose count 8.0/11.0. Average score (-4.64)\n",
      "Win/lose count 11.0/16.0. Average score (-4.653846153846154)\n",
      "Win/lose count 12.5/18.0. Average score (-4.685185185185185)\n",
      "Win/lose count 10.5/11.0. Average score (-4.535714285714286)\n",
      "Win/lose count 12.5/7.0. Average score (-4.189655172413793)\n",
      "Win/lose count 7.5/8.0. Average score (-4.066666666666666)\n",
      "Final score: -4.066666666666666\n"
     ]
    },
    {
     "data": {
      "text/html": [
       "<video alt=\"test\" controls>\n",
       "                <source src=\"data:video/mp4;base64,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\" type=\"video/mp4\" />\n",
       "             </video>"
      ],
      "text/plain": [
       "<IPython.core.display.HTML object>"
      ]
     },
     "execution_count": 8,
     "metadata": {},
     "output_type": "execute_result"
    }
   ],
   "source": [
    "# Initialize the game\n",
    "env = Environment(grid_size=size, max_time=T,temperature=temperature)\n",
    "\n",
    "# Initialize the agent!\n",
    "agent = RandomAgent()\n",
    "\n",
    "test(agent, env, epochs_test, prefix='random')\n",
    "HTML(display_videos('random0.mp4'))"
   ]
  },
  {
   "cell_type": "code",
   "execution_count": 9,
   "metadata": {},
   "outputs": [
    {
     "data": {
      "text/plain": [
       "\u001b[0;31mSignature:\u001b[0m \u001b[0magent\u001b[0m\u001b[0;34m.\u001b[0m\u001b[0mlearned_act\u001b[0m\u001b[0;34m(\u001b[0m\u001b[0ms\u001b[0m\u001b[0;34m)\u001b[0m\u001b[0;34m\u001b[0m\u001b[0;34m\u001b[0m\u001b[0m\n",
       "\u001b[0;31mDocstring:\u001b[0m\n",
       "Returns\n",
       "-------\n",
       "action : int\n",
       "    0 is up, 1 is down, 2 is left, and 3 is right.\n",
       "\u001b[0;31mFile:\u001b[0m      ~/Documents/pyprojects/mva-deeplearning/dqn/<ipython-input-6-1ae46bf5c42d>\n",
       "\u001b[0;31mType:\u001b[0m      method\n"
      ]
     },
     "metadata": {},
     "output_type": "display_data"
    }
   ],
   "source": [
    "agent.learned_act?"
   ]
  },
  {
   "cell_type": "markdown",
   "metadata": {},
   "source": [
    "***\n",
    "## DQN"
   ]
  },
  {
   "cell_type": "markdown",
   "metadata": {},
   "source": [
    "Let us assume here that $T=\\infty$.\n",
    "\n",
    "***\n",
    "__Question 5__ Let $\\pi$ be a policy, show that:\n",
    "\n",
    "\\begin{equation*}\n",
    "Q^{\\pi}(s,a)=E_{(s',a')\\sim p(.|s,a)}[r(s,a)+\\gamma Q^{\\pi}(s',a')]\n",
    "\\end{equation*}\n",
    "\n",
    "Then, show that for the optimal policy $\\pi^*$ (we assume its existence), the following holds: \n",
    "\n",
    "\\begin{equation*}\n",
    "Q^{*}(s,a)=E_{s'\\sim \\pi^*(.|s,a)}[r(s,a)+\\gamma\\max_{a'}Q^{*}(s',a')].\n",
    "\\end{equation*}\n",
    "Finally, deduce that a plausible objective is:\n",
    "\n",
    "\\begin{equation*}\n",
    "\\mathcal{L}(\\theta)=E_{s' \\sim \\pi^*(.|s,a)}\\Vert r+\\gamma \\max_{a'}Q(s',a',\\theta)-Q(s,a,\\theta)\\Vert^{2}.\n",
    "\\end{equation*}\n",
    "\n",
    "\n"
   ]
  },
  {
   "cell_type": "markdown",
   "metadata": {},
   "source": [
    "*Answer*. First of all,\n",
    "$$\n",
    "\\begin{aligned}\n",
    "    Q^\\pi(s,a) &= r(s,a) + \\gamma \\mathbb E_{p^\\pi}\\left[\n",
    "        \\sum_{t=1} \\gamma^{t-1}r(s_t,a_t) | s_1=s, a_1=a\n",
    "    \\right]  \\\\\n",
    "    &= r(s,a) + \\gamma \\mathbb E_{(s',a')\\sim p(\\cdot|s,a)}\\left[\n",
    "        \\mathbb E_{p^\\pi}\\left[\n",
    "        \\sum_{t=0} \\gamma^{t}r(s_t,a_t) | s_0=s', a_0=a'\n",
    "        \\right]\n",
    "    \\right]  \\\\\n",
    "    &= r(s,a) + \\gamma \\mathbb E_{(s',a')\\sim p(\\cdot|s,a)}\\left[\n",
    "        Q^\\pi(s',a')\n",
    "    \\right]\n",
    "\\end{aligned}\n",
    "$$"
   ]
  },
  {
   "cell_type": "markdown",
   "metadata": {},
   "source": [
    "Secondly, we can deduce\n",
    "$$\n",
    "\\begin{aligned}\n",
    "    Q^*(s,a) &= \\max_\\pi Q^\\pi(s,a) = Q^{\\pi^*}(s,a) \\\\\n",
    "    &= r(s,a) + \\gamma \\mathbb E_{(s',a')\\sim p^{\\pi^*}(s,a)}[\n",
    "        Q^{\\pi^*}(s',a')\n",
    "    ]\n",
    "\\end{aligned}\n",
    "$$\n",
    "and since the optimal policy is deterministic and selects actions $\\pi^*(s) = \\arg\\max_a Q^*(s,a)$ at any state $s$. Then\n",
    "$$\n",
    "\\begin{aligned}\n",
    "    Q^*(s,a) = r(s,a) + \\gamma \\mathbb E_{s'\\sim p(\\cdot|s,a)}\n",
    "    \\left[\n",
    "        \\max_{a'} Q^*(s',a')\n",
    "    \\right]\n",
    "\\end{aligned}\n",
    "$$"
   ]
  },
  {
   "cell_type": "markdown",
   "metadata": {},
   "source": [
    "A good objective function for evaluating a given policy would be the Bellman error (between the left-hand side and right-hand side)."
   ]
  },
  {
   "cell_type": "markdown",
   "metadata": {},
   "source": [
    "***\n",
    "The DQN-learning algorithm relies on these derivations to train the parameters $\\theta$ of a Deep Neural Network:\n",
    "\n",
    "1. At the state $s_t$, select the action $a_t$ with best reward using $Q_t$ and store the results;\n",
    "\n",
    "2. Obtain the new state $s_{t+1}$ from the environment $p$;\n",
    "\n",
    "3. Store $(s_t,a_t,s_{t+1})$;\n",
    "\n",
    "4. Obtain $Q_{t+1}$ by minimizing  $\\mathcal{L}$ from a recovered batch from the previously stored results.\n",
    "\n",
    "***\n",
    "__Question 6__ Implement the class ```Memory``` that stores moves (in a replay buffer) via ```remember``` and provides a ```random_access``` to these. Specify a maximum memory size to avoid side effects. You can for example use a ```list()``` and set by default ```max_memory=100```."
   ]
  },
  {
   "cell_type": "code",
   "execution_count": 10,
   "metadata": {},
   "outputs": [],
   "source": [
    "class Memory(object):\n",
    "    def __init__(self, max_memory=100):\n",
    "        self.max_memory = max_memory\n",
    "        self.memory = list()\n",
    "\n",
    "    def remember(self, m):\n",
    "        if len(self.memory) <= self.max_memory:\n",
    "            self.memory.append(m)\n",
    "        else:\n",
    "            # perform random overwrite\n",
    "            self.memory[np.random.randint(self.max_memory)] = m\n",
    "            \n",
    "    def random_access(self):\n",
    "        return self.memory[np.random.randint(len(self.memory))]"
   ]
  },
  {
   "cell_type": "markdown",
   "metadata": {},
   "source": [
    "***\n",
    "The pipeline we will use for training is given below:"
   ]
  },
  {
   "cell_type": "code",
   "execution_count": 11,
   "metadata": {},
   "outputs": [],
   "source": [
    "def train(agent,env,epoch,prefix=''):\n",
    "    # Number of won games\n",
    "    score = 0\n",
    "    loss = 0\n",
    "\n",
    "    for e in range(epoch):\n",
    "        # At each epoch, we restart to a fresh game and get the initial state\n",
    "        state = env.reset()\n",
    "        # This assumes that the games will terminate\n",
    "        game_over = False\n",
    "\n",
    "        win = 0\n",
    "        lose = 0\n",
    "\n",
    "        while not game_over:\n",
    "            # The agent performs an action\n",
    "            action = agent.act(state)\n",
    "\n",
    "            # Apply an action to the environment, get the next state, the reward\n",
    "            # and if the games end\n",
    "            prev_state = state\n",
    "            state, reward, game_over = env.act(action)\n",
    "\n",
    "            # Update the counters\n",
    "            if reward > 0:\n",
    "                win = win + reward\n",
    "            if reward < 0:\n",
    "                lose = lose -reward\n",
    "\n",
    "            # Apply the reinforcement strategy\n",
    "            loss = agent.reinforce(prev_state, state,  action, reward, game_over)\n",
    "\n",
    "        # Save as a mp4\n",
    "        if e % 10 == 0:\n",
    "            env.draw(prefix+str(e))\n",
    "\n",
    "        # Update stats\n",
    "        score += win-lose\n",
    "\n",
    "        print(\"Epoch {:03d}/{:03d} | Loss {:.4f} | Win/lose count {}/{} ({})\"\n",
    "              .format(e, epoch, loss, win, lose, win-lose))\n",
    "        agent.save(name_weights=prefix+'model.h5',name_model=prefix+'model.json')"
   ]
  },
  {
   "cell_type": "markdown",
   "metadata": {},
   "source": [
    "***\n",
    "__Question 7__ Implement the DQN training algorithm using a cascade of fully connected layers. You can use different learning rate, batch size or memory size parameters. In particular, the loss might oscillate while the player will start to win the games. You have to find a good criterium."
   ]
  },
  {
   "cell_type": "code",
   "execution_count": 58,
   "metadata": {},
   "outputs": [],
   "source": [
    "class DQN(Agent):\n",
    "    def __init__(self, grid_size, epsilon=0.1, memory_size=100, batch_size=16, n_state=2):\n",
    "        super(DQN, self).__init__(epsilon=epsilon)\n",
    "\n",
    "        # Discount for Q learning\n",
    "        self.discount = 0.99\n",
    "        \n",
    "        self.grid_size = grid_size\n",
    "        \n",
    "        # number of state\n",
    "        self.n_state = n_state\n",
    "\n",
    "        # Memory\n",
    "        self.memory = Memory(memory_size)\n",
    "        \n",
    "        # Batch size when learning\n",
    "        self.batch_size = batch_size\n",
    "\n",
    "    def learned_act(self, s):\n",
    "        return np.argmax(self.model.predict(s[None]))\n",
    "\n",
    "    def reinforce(self, s_, n_s_, a_, r_, game_over_):\n",
    "        \"\"\"\n",
    "        Parameters\n",
    "        ----------\n",
    "        s_\n",
    "            previous state\n",
    "        n_s_\n",
    "            next state\n",
    "        a_\n",
    "            chosen action\n",
    "        r_\n",
    "            obtained reward\n",
    "        game_over_\n",
    "            whether or not the game is over.\n",
    "        \"\"\"\n",
    "        # Two steps: first memorize the states, second learn from the pool\n",
    "\n",
    "        self.memory.remember([s_, n_s_, a_, r_, game_over_])\n",
    "        \n",
    "        # recall that state = 2-neighborhood of mouse in the grid\n",
    "        input_states = np.zeros((self.batch_size, 5, 5, self.n_state))  # numpy buffer to pass to the network\n",
    "        target_q = np.zeros((self.batch_size, 4))  # has right dimensionality for target, but values on last axis are identical\n",
    "        \n",
    "        for i in range(self.batch_size):\n",
    "            # draw a sample\n",
    "            s_, n_s_, a_, r_, game_over_ = self.memory.random_access()\n",
    "            # bootstrap a target value\n",
    "            target_q[i] = self.model.predict(s_[None])\n",
    "            if game_over_:\n",
    "                # in this case only the reward counts because the episode terminates\n",
    "                target_q[i, a_] = r_\n",
    "            else:\n",
    "                q_estimate_ = self.model.predict(n_s_[None]).max()  # max_{next_act} q(next_state, next_act)\n",
    "                target_q[i, a_] = r_ + self.discount * q_estimate_\n",
    "            input_states[i] = s_\n",
    "        ######## FILL IN\n",
    "        # HINT: Clip the target to avoid exploiding gradients.. -- clipping is a bit tighter\n",
    "        target_q = np.clip(target_q, -3, 3)\n",
    "        l = self.model.train_on_batch(input_states, target_q)\n",
    "\n",
    "        return l\n",
    "\n",
    "    def save(self,name_weights='model.h5',name_model='model.json'):\n",
    "        self.model.save_weights(name_weights, overwrite=True)\n",
    "        with open(name_model, \"w\") as outfile:\n",
    "            json.dump(self.model.to_json(), outfile)\n",
    "            \n",
    "    def load(self,name_weights='model.h5',name_model='model.json'):\n",
    "        with open(name_model, \"r\") as jfile:\n",
    "            model = model_from_json(json.load(jfile))\n",
    "        model.load_weights(name_weights)\n",
    "        model.compile(\"sgd\", \"mse\")\n",
    "        self.model = model\n",
    "\n",
    "            \n",
    "class DQN_FC(DQN):\n",
    "    def __init__(self, *args, lr=0.1,**kwargs):\n",
    "        super(DQN_FC, self).__init__(*args, **kwargs)\n",
    "        \n",
    "        # NN Model\n",
    "        size = args[0]  # grid size\n",
    "        hid_size = 128\n",
    "        \n",
    "        input_shape = (5, 5, self.n_state)  # give the 2-neighborhood of mouse\n",
    "        \n",
    "        # Input: state i.e. 2-neighborhood of the agent\n",
    "        # Output: estimate of the Q value function Q(s, a) for all states a\n",
    "        model: Sequential = Sequential([\n",
    "            keras.layers.Flatten(input_shape=input_shape),\n",
    "            Dense(hid_size, activation='relu'),\n",
    "            Dense(64, activation='relu'),\n",
    "            Dense(self.n_action)  # output layer\n",
    "        ])\n",
    "        \n",
    "        model.compile(sgd(lr=lr, decay=1e-4, momentum=0.0), \"mse\")\n",
    "        self.model = model\n",
    "        "
   ]
  },
  {
   "cell_type": "code",
   "execution_count": null,
   "metadata": {},
   "outputs": [
    {
     "name": "stdout",
     "output_type": "stream",
     "text": [
      "Epoch 000/050 | Loss 0.0064 | Win/lose count 2.0/1.0 (1.0)\n",
      "Epoch 001/050 | Loss 0.0110 | Win/lose count 0.5/0 (0.5)\n",
      "Epoch 002/050 | Loss 0.0135 | Win/lose count 2.0/2.0 (0.0)\n",
      "Epoch 003/050 | Loss 0.0068 | Win/lose count 3.5/2.0 (1.5)\n",
      "Epoch 004/050 | Loss 0.0049 | Win/lose count 1.5/6.0 (-4.5)\n",
      "Epoch 005/050 | Loss 0.0085 | Win/lose count 0.5/2.0 (-1.5)\n",
      "Epoch 006/050 | Loss 0.0108 | Win/lose count 2.5/2.0 (0.5)\n",
      "Epoch 007/050 | Loss 0.0064 | Win/lose count 1.5/0 (1.5)\n",
      "Epoch 008/050 | Loss 0.0105 | Win/lose count 0.5/3.0 (-2.5)\n",
      "Epoch 009/050 | Loss 0.0118 | Win/lose count 2.0/0 (2.0)\n",
      "Epoch 010/050 | Loss 0.0189 | Win/lose count 2.5/1.0 (1.5)\n",
      "Epoch 011/050 | Loss 0.0271 | Win/lose count 1.5/4.0 (-2.5)\n",
      "Epoch 012/050 | Loss 0.0227 | Win/lose count 1.0/2.0 (-1.0)\n",
      "Epoch 013/050 | Loss 0.0144 | Win/lose count 1.5/1.0 (0.5)\n",
      "Epoch 014/050 | Loss 0.0108 | Win/lose count 0/1.0 (-1.0)\n",
      "Epoch 015/050 | Loss 0.0267 | Win/lose count 1.5/6.0 (-4.5)\n",
      "Epoch 016/050 | Loss 0.0344 | Win/lose count 1.0/2.0 (-1.0)\n",
      "Epoch 017/050 | Loss 0.0543 | Win/lose count 2.5/3.0 (-0.5)\n",
      "Epoch 018/050 | Loss 0.0763 | Win/lose count 0.5/4.0 (-3.5)\n",
      "Epoch 019/050 | Loss 0.0232 | Win/lose count 1.0/2.0 (-1.0)\n",
      "Epoch 020/050 | Loss 0.0169 | Win/lose count 1.5/2.0 (-0.5)\n",
      "Epoch 021/050 | Loss 0.0338 | Win/lose count 2.5/6.0 (-3.5)\n",
      "Epoch 022/050 | Loss 0.0216 | Win/lose count 1.5/1.0 (0.5)\n",
      "Epoch 023/050 | Loss 0.0274 | Win/lose count 0/3.0 (-3.0)\n",
      "Epoch 024/050 | Loss 0.0690 | Win/lose count 1.5/0 (1.5)\n",
      "Epoch 025/050 | Loss 0.0075 | Win/lose count 1.5/1.0 (0.5)\n",
      "Epoch 026/050 | Loss 0.0138 | Win/lose count 1.5/3.0 (-1.5)\n",
      "Epoch 027/050 | Loss 0.0102 | Win/lose count 0/1.0 (-1.0)\n",
      "Epoch 028/050 | Loss 0.0069 | Win/lose count 2.5/0 (2.5)\n",
      "Epoch 029/050 | Loss 0.0096 | Win/lose count 0/2.0 (-2.0)\n",
      "Epoch 030/050 | Loss 0.0128 | Win/lose count 1.0/0 (1.0)\n",
      "Epoch 031/050 | Loss 0.0067 | Win/lose count 1.0/1.0 (0.0)\n",
      "Epoch 032/050 | Loss 0.0042 | Win/lose count 2.0/1.0 (1.0)\n",
      "Epoch 033/050 | Loss 0.0033 | Win/lose count 1.5/3.0 (-1.5)\n",
      "Epoch 034/050 | Loss 0.0089 | Win/lose count 1.5/3.0 (-1.5)\n",
      "Epoch 035/050 | Loss 0.0134 | Win/lose count 0/3.0 (-3.0)\n",
      "Epoch 036/050 | Loss 0.0652 | Win/lose count 3.5/5.0 (-1.5)\n",
      "Epoch 037/050 | Loss 0.0088 | Win/lose count 1.0/1.0 (0.0)\n"
     ]
    }
   ],
   "source": [
    "env = Environment(grid_size=size, max_time=T, temperature=0.1)\n",
    "agent = DQN_FC(size, lr=.01, epsilon=0.35, memory_size=2000, batch_size=32)\n",
    "train(agent, env, 50, prefix='fc_train')\n",
    "HTML(display_videos('fc_train10.mp4'))"
   ]
  },
  {
   "cell_type": "code",
   "execution_count": null,
   "metadata": {},
   "outputs": [],
   "source": [
    "from IPython.display import SVG\n",
    "from keras.utils import model_to_dot\n",
    "\n",
    "SVG(model_to_dot(agent.model, show_shapes=True, show_layer_names=True).create(prog='dot', format='svg'))"
   ]
  },
  {
   "cell_type": "markdown",
   "metadata": {},
   "source": [
    "***\n",
    "***\n",
    "__Question 8__ Implement the DQN training algorithm using a CNN (for example, 2 convolutional layers and one final fully connected layer)."
   ]
  },
  {
   "cell_type": "code",
   "execution_count": 51,
   "metadata": {},
   "outputs": [],
   "source": [
    "class DQN_CNN(DQN):\n",
    "    def __init__(self, *args,lr=0.1,**kwargs):\n",
    "        super(DQN_CNN, self).__init__(*args,**kwargs)\n",
    "        \n",
    "        input_shape = (5, 5, self.n_state)\n",
    "        \n",
    "        model = Sequential([\n",
    "            Conv2D(64, 3, input_shape=input_shape, activation='relu', padding=\"same\"),\n",
    "            Conv2D(32, 3, activation='relu', padding=\"same\"),\n",
    "            keras.layers.Flatten(),\n",
    "            Dense(self.n_action)  # output\n",
    "        ])\n",
    "        \n",
    "        model.compile(sgd(lr=lr, decay=1e-4, momentum=0.0), \"mse\")\n",
    "        self.model = model"
   ]
  },
  {
   "cell_type": "code",
   "execution_count": 52,
   "metadata": {},
   "outputs": [
    {
     "name": "stdout",
     "output_type": "stream",
     "text": [
      "Epoch 000/030 | Loss 0.0001 | Win/lose count 3.5/5.0 (-1.5)\n",
      "Epoch 001/030 | Loss 0.0110 | Win/lose count 5.0/6.0 (-1.0)\n",
      "Epoch 002/030 | Loss 0.0188 | Win/lose count 4.0/5.0 (-1.0)\n",
      "Epoch 003/030 | Loss 0.0112 | Win/lose count 6.0/10.0 (-4.0)\n",
      "Epoch 004/030 | Loss 0.0071 | Win/lose count 4.0/6.0 (-2.0)\n",
      "Epoch 005/030 | Loss 0.0176 | Win/lose count 1.0/4.0 (-3.0)\n",
      "Epoch 006/030 | Loss 0.0025 | Win/lose count 3.5/1.0 (2.5)\n",
      "Epoch 007/030 | Loss 0.0200 | Win/lose count 4.5/7.0 (-2.5)\n",
      "Epoch 008/030 | Loss 0.0073 | Win/lose count 5.0/3.0 (2.0)\n",
      "Epoch 009/030 | Loss 0.0019 | Win/lose count 5.0/6.0 (-1.0)\n",
      "Epoch 010/030 | Loss 0.0034 | Win/lose count 1.5/1.0 (0.5)\n",
      "Epoch 011/030 | Loss 0.0048 | Win/lose count 4.0/4.0 (0.0)\n",
      "Epoch 012/030 | Loss 0.0069 | Win/lose count 4.0/11.0 (-7.0)\n",
      "Epoch 013/030 | Loss 0.0145 | Win/lose count 2.5/0 (2.5)\n",
      "Epoch 014/030 | Loss 0.0005 | Win/lose count 3.5/1.0 (2.5)\n",
      "Epoch 015/030 | Loss 0.0044 | Win/lose count 5.0/3.0 (2.0)\n",
      "Epoch 016/030 | Loss 0.0167 | Win/lose count 2.5/3.0 (-0.5)\n",
      "Epoch 017/030 | Loss 0.0124 | Win/lose count 3.5/3.0 (0.5)\n",
      "Epoch 018/030 | Loss 0.0131 | Win/lose count 1.0/4.0 (-3.0)\n",
      "Epoch 019/030 | Loss 0.0239 | Win/lose count 1.5/3.0 (-1.5)\n",
      "Epoch 020/030 | Loss 0.0090 | Win/lose count 3.0/4.0 (-1.0)\n",
      "Epoch 021/030 | Loss 0.0258 | Win/lose count 5.0/3.0 (2.0)\n",
      "Epoch 022/030 | Loss 0.0024 | Win/lose count 3.5/1.0 (2.5)\n",
      "Epoch 023/030 | Loss 0.0071 | Win/lose count 6.5/1.0 (5.5)\n",
      "Epoch 024/030 | Loss 0.0174 | Win/lose count 1.5/0 (1.5)\n",
      "Epoch 025/030 | Loss 0.0007 | Win/lose count 4.5/3.0 (1.5)\n",
      "Epoch 026/030 | Loss 0.0065 | Win/lose count 4.0/2.0 (2.0)\n",
      "Epoch 027/030 | Loss 0.0143 | Win/lose count 3.0/4.0 (-1.0)\n",
      "Epoch 028/030 | Loss 0.0025 | Win/lose count 2.0/3.0 (-1.0)\n",
      "Epoch 029/030 | Loss 0.0078 | Win/lose count 6.5/1.0 (5.5)\n"
     ]
    },
    {
     "data": {
      "text/html": [
       "<video alt=\"test\" controls>\n",
       "                <source src=\"data:video/mp4;base64,AAAAIGZ0eXBpc29tAAACAGlzb21pc28yYXZjMW1wNDEAAAAIZnJlZQAAFl1tZGF0AAACnwYF//+b3EXpvebZSLeWLNgg2SPu73gyNjQgLSBjb3JlIDE1MiAtIEguMjY0L01QRUctNCBBVkMgY29kZWMgLSBDb3B5bGVmdCAyMDAzLTIwMTcgLSBodHRwOi8vd3d3LnZpZGVvbGFuLm9yZy94MjY0Lmh0bWwgLSBvcHRpb25zOiBjYWJhYz0xIHJlZj0zIGRlYmxvY2s9MTowOjAgYW5hbHlzZT0weDE6MHgxMTEgbWU9aGV4IHN1Ym1lPTcgcHN5PTEgcHN5X3JkPTEuMDA6MC4wMCBtaXhlZF9yZWY9MSBtZV9yYW5nZT0xNiBjaHJvbWFfbWU9MSB0cmVsbGlzPTEgOHg4ZGN0PTAgY3FtPTAgZGVhZHpvbmU9MjEsMTEgZmFzdF9wc2tpcD0xIGNocm9tYV9xcF9vZmZzZXQ9NCB0aHJlYWRzPTggbG9va2FoZWFkX3RocmVhZHM9MSBzbGljZWRfdGhyZWFkcz0wIG5yPTAgZGVjaW1hdGU9MSBpbnRlcmxhY2VkPTAgYmx1cmF5X2NvbXBhdD0wIGNvbnN0cmFpbmVkX2ludHJhPTAgYmZyYW1lcz0zIGJfcHlyYW1pZD0yIGJfYWRhcHQ9MSBiX2JpYXM9MCBkaXJlY3Q9MSB3ZWlnaHRiPTEgb3Blbl9nb3A9MCB3ZWlnaHRwPTIga2V5aW50PTI1MCBrZXlpbnRfbWluPTI1IHNjZW5lY3V0PTQwIGludHJhX3JlZnJlc2g9MCByY19sb29rYWhlYWQ9NDAgcmM9Y3JmIG1idHJlZT0xIGNyZj0yMy4wIHFjb21wPTAuNjAgcXBtaW49MCBxcG1heD02OSBxcHN0ZXA9NCBpcF9yYXRpbz0xLjQwIGFxPTE6MS4wMACAAAADAGWIhAA3//72h/gU2VgT/lm//Q1/3I/bj6z9cWMhBN9aryHowBkvtR/m/6xRbOmelAf34AiUAHNuGcKR2SeOsOTCL1R8ClwE++BTSZFn1jIEL1QpDzO6n99Yp3hzDJWmZ5lWgrpdRETCrcCdvYT53enYyXof1LTuoZMWbaWxpiOCuEVrYIsrDYPmXGTo6HL6eXx0GXOAgS5yAWTT6Z9xyi6VByHqbz2qnndu6j5U82qXb5S4N2UEUVgPN2zgQsksc8EZ0jvAjejeGrGwCAotRstDoDDqw6Oiim/07rX+YG3IHcqN7m6HQrO/0ySNHdIVQoSYsyeoGDpgWSEr+Dh3kNAk13OmwbrAAVFDAeqpUTILr/6iP1tO4cVBci+4xfArac6GMapUAAADA54UyVPDcuq3Ny6Du4w0B7i7UV6bz+4HAMJyDuZ82avkZjaNbD7JAyUvkRzAB68CRvFkzDe7/oV9txEIxwbPU+uYFQiVhLpDsS12h8Zn4UhqzsP2FhCFhmIsgBlkIvCqPWcyBdWRfbxmZ5pLencSGwAYDudzaoyP0JG0C6leP5mwHinRxCR/1DONJb0F5nYXNBxE21ogAHvfyH36NaTu68eIhYCyiqLuloSziNbKhGBnuPKkkFLfryMQhFKZBwNib5DoHftxT0YwZAAMxnt7erO5Ot6f5qPPernjYVmfRc+e0ESJ6xkwW34pmTOa34m0+OFPCu8wIdOP3kNgugCI5HQFzuKHb0kL8GO7D3x/ULxN7wLtpFhz7XScLJ+7Go/q9wIFcaKCcEPwgbMbOGbX9RWd/aue/2Tphsf5PJ59BpiXWah1+6GKDeIcvEJcMW6gRGiemQsUZDtw8bWrKZvHVcDhEg9RSvlW2/Up1dbj11/kyG05iizdWDgsie0HnPLbHbMZkOSLs7w1+aQJvN8YIIfl0ewCLoCQ1pbhs+fXFXyBKFh3GnKjPQmkVtNknTrXo+f9qKeHPp3HXwRtU4q7ciZfrHX83qrJJmmmwRqr7EHIAcZBgAALyQAAABFBmiJsQ3/+p4QACDfHT7aPgAAAABABnkF5Cv8ABsErYvV2HPHBAAAAGEGaQzwhkymEO//+qZYAArvvq+uxBuK7UAAAACZBmmdJ4Q8mUwId//6plgAB1Pfq5llapqvApRIF4FM1y57Vt6yAQQAAABRBnoVFETwv/wADTNwt3+De7d2lwQAAAA8BnqR0Qr8ABHfSdwbJeucAAAAQAZ6makK/AAR2WQw+gJB+2QAAABNBmqtJqEFomUwId//+qZYAAJWAAAAADEGeyUURLC//AACygAAAABABnuh0Qr8ABJboB0LSw489AAAADwGe6mpCvwAC85ybrPVpRwAAABNBmu9JqEFsmUwId//+qZYAAJWAAAAADEGfDUUVLC//AACygQAAABABnyx0Qr8AAvOcnEdl2kSBAAAADwGfLmpCvwAC85ybrPVpRwAAABNBmzNJqEFsmUwId//+qZYAAJWAAAAADEGfUUUVLC//AACygAAAABABn3B0Qr8ABJboB0LSw489AAAADwGfcmpCvwAC85ybrPVpRwAAABNBm3dJqEFsmUwId//+qZYAAJWAAAAADEGflUUVLC//AACygQAAABABn7R0Qr8AAvOcnEdl2kSAAAAADwGftmpCvwAC85ybrPVpRwAAABNBm7tJqEFsmUwId//+qZYAAJWBAAAADEGf2UUVLC//AACygAAAABABn/h0Qr8AAvOcnEdl2kSBAAAADwGf+mpCvwAC85ybrPVpRwAAABNBm/9JqEFsmUwId//+qZYAAJWBAAAADEGeHUUVLC//AACygQAAABABnjx0Qr8AAvOcnEdl2kSAAAAADwGePmpCvwAC85ybrPVpRwAAAChBmiNJqEFsmUwIb//+p4QABY/bp5lleMM/Apls7PgUKS7deYYn9FdhAAAAEEGeQUUVLC//AANMq8b2EXgAAAAPAZ5gdEK/AAL8kohTBQWBAAAAEAGeYmpCvwAEd2iE3GfXsegAAAAbQZpkSahBbJlMCHf//qmWAALN8pJ5/rsQbiurAAAAEkGaiEnhClJlMCHf/qmWAACVgQAAAAxBnqZFNEwv/wAAsoEAAAAQAZ7FdEK/AAL88m6O2+JEgQAAAA8BnsdqQr8AAvwLGiVzzUcAAAATQZrMSahBaJlMCHf//qmWAACVgAAAACNBnupFESwv/wADWCdf8JTc//xCAgMs//xAx2rP/z/dfCh0WwAAAA8Bnwl0Qr8ABJfSdwbJetYAAAAPAZ8LakK/AASWVulGkPM2AAAAE0GbEEmoQWyZTAh3//6plgAAlYEAAAAMQZ8uRRUsL/8AALKBAAAAEAGfTXRCvwAC/PJujtviRIEAAAAPAZ9PakK/AAL8Cxolc81HAAAAE0GbVEmoQWyZTAh3//6plgAAlYAAAAAMQZ9yRRUsL/8AALKBAAAAEAGfkXRCvwAC/PJujtviRIAAAAAPAZ+TakK/AALhZRus9WlRAAAAE0GbmEmoQWyZTAh3//6plgAAlYEAAAAMQZ+2RRUsL/8AALKAAAAAEAGf1XRCvwAEdugHP8y3lXEAAAAPAZ/XakK/AAL8Cxolc81HAAAAE0Gb3EmoQWyZTAh3//6plgAAlYAAAAAMQZ/6RRUsL/8AALKBAAAAEAGeGXRCvwAC/PJujtviRIAAAAAPAZ4bakK/AAL8Cxolc81HAAAAE0GaAEmoQWyZTAh3//6plgAAlYEAAAAMQZ4+RRUsL/8AALKAAAAAEAGeXXRCvwAC/PJujtviRIAAAAAPAZ5fakK/AAL8Cxolc81HAAAAE0GaREmoQWyZTAh3//6plgAAlYAAAAAMQZ5iRRUsL/8AALKBAAAAEAGegXRCvwAEdugHP8y3lXAAAAAPAZ6DakK/AAL8Cxolc81HAAAAJkGaiEmoQWyZTAh3//6plgAC3+7FzLLGFVeBTNcVPAok9f955uQZAAAAEEGepkUVLC//AANgq7v87bEAAAAPAZ7FdEK/AAL88m8846OBAAAADwGex2pCvwAEl2eW4bNrawAAABtBmsxJqEFsmUwId//+qZYAAt/ykhif02XaNNIAAAAQQZ7qRRUsL/8AA2Ajd7hfQQAAAA8Bnwl0Qr8ABJXZQpNslq8AAAAPAZ8LakK/AAL8CxsDlYWAAAAAE0GbEEmoQWyZTAh3//6plgAAlYEAAAAMQZ8uRRUsL/8AALKBAAAAEAGfTXRCvwAC4WUcR2XaSYEAAAAQAZ9PakK/AAR4TAc/rQOksAAAABNBm1RJqEFsmUwId//+qZYAAJWAAAAADEGfckUVLC//AACygQAAABABn5F0Qr8AAvzybo7b4kSAAAAADwGfk2pCvwAC/AsaJXPNRwAAABNBm5hJqEFsmUwId//+qZYAAJWBAAAADEGftkUVLC//AACygAAAABABn9V0Qr8AAvzybo7b4kSBAAAADwGf12pCvwAC/AsaJXPNRwAAABpBm9tJqEFsmUwId//+qZYAAdIdPymjH61pwAAAAA9Bn/lFFSwr/wAC/EaCAsEAAAANAZ4aakK/AAL9YkXAFgAAAB9Bmh9JqEFsmUwIb//+p4QABdXd+am2GKOYRS1e/yoLAAAAEEGePUUVLC//AAN0IpBzgmEAAAAPAZ5cdEK/AAS30ncGyXrGAAAADwGeXmpCvwAEuDWBdf5RQAAAABNBmkFJqEFsmUwUTDf//qeEAAEnAAAAEAGeYGpCvwAEqWLditH3U0AAAAASQZpjSeEKUmUwUsN//qeEAAEnAAAAEAGegmpCvwAEqWLditH3U0AAAAASQZqFSeEOiZTBRMN//qeEAAEnAAAAEAGepGpCvwAEqWLditH3U0EAAAASQZqnSeEPJlMFPDf//qeEAAEnAAAAEAGexmpCvwAEqWLditH3U0EAAAASQZrJSeEPJlMFPDf//qeEAAEnAAAAEAGe6GpCvwAEqWLditH3U0AAAAASQZrrSeEPJlMFPDf//qeEAAEnAAAAEAGfCmpCvwAEqWLditH3U0AAAAASQZsNSeEPJlMFPDf//qeEAAEnAAAAEAGfLGpCvwAEqWLditH3U0EAAAASQZsvSeEPJlMFPDf//qeEAAEnAAAAEAGfTmpCvwAEqWLditH3U0EAAAASQZtRSeEPJlMFPDf//qeEAAEnAAAAEAGfcGpCvwAEqWLditH3U0AAAAASQZtzSeEPJlMFPDf//qeEAAEnAAAAEAGfkmpCvwAEqWLditH3U0AAAAASQZuVSeEPJlMFPDf//qeEAAEnAAAAEAGftGpCvwAEqWLditH3U0EAAAATQZu3SeEPJlMFPDv//qmWAACVgAAAABABn9ZqQr8ABKli3YrR91NBAAAAG0Gb20nhDyZTAhv//qeEAAXX40/j+ZZqmtzMRQAAABBBn/lFETwv/wADdKu7/O04AAAADwGeGHRCvwAEttGLgPzx4QAAABABnhpqQr8ABLZPnOtDDDZAAAAAGkGaHkmoQWiZTAhv//6nhAAFsd36T3bPc+hvAAAAD0GePEURLCv/AASWVwKjQQAAAA0Bnl1qQr8ABJg1h40aAAAAFEGaQEmoQWyZTBRMO//+qZYAAJWAAAAAEAGef2pCvwAEiWLditH3VcEAAAAdQZpkSeEKUmUwIb/+p4QABbPj9BDP5Ib4cWQpS2QAAAAQQZ6CRTRML/8AA2CrxvYROQAAAA8BnqF0Qr8ABJbRi4D888AAAAAQAZ6jakK/AAS3NG80xVuQwQAAABlBmqdJqEFomUwIb//+p4QABdABqQWmIntBAAAAD0GexUURLCv/AAS2VwKhQQAAAA0BnuZqQr8ABLg1h40LAAAAGkGa6EmoQWyZTAh3//6plgAC8fJLSzo6nnpgAAAAG0GbDEnhClJlMCHf/qmWAALf8kvy7PahZCl1GQAAABBBnypFNEwv/wADYCN3uF9BAAAAEAGfSXRCvwAEldWjJLf7Y4AAAAAPAZ9LakK/AAL8CxsDlYWAAAAAE0GbUEmoQWiZTAh3//6plgAAlYEAAAAMQZ9uRREsL/8AALKBAAAAEAGfjXRCvwAC/PJujtviRIEAAAAPAZ+PakK/AAL8Cxolc81HAAAAE0GblEmoQWyZTAh3//6plgAAlYAAAAAMQZ+yRRUsL/8AALKBAAAAEAGf0XRCvwAEdugHP8y3lXAAAAAPAZ/TakK/AAL8Cxolc81HAAAAEkGb2EmoQWyZTAhv//6nhAABJwAAAAxBn/ZFFSwv/wAAsoAAAAAQAZ4VdEK/AALhZRxHZdpJgQAAABABnhdqQr8ABHhMBz+tA6SxAAAAGkGaGUmoQWyZTAh3//6plgAB0h0/KaMfrWnAAAAAEUGaPUnhClJlMCG//qeEAAEnAAAADEGeW0U0TC//AACygAAAABABnnp0Qr8AAxDybo7b4j6BAAAAEAGefGpCvwAEmEwHP60DpDEAAAAaQZpgSahBaJlMCG///qeEAAWsKlZttn2fQ3gAAAAPQZ6eRREsK/8ABJZXAqNAAAAADQGev2pCvwAEmDWHjRsAAAATQZqiSahBbJlMFEw3//6nhAABJwAAABABnsFqQr8ABIli3YrR91XBAAAAEkGaxEnhClJlMFLDf/6nhAABJwAAABABnuNqQr8ABIli3YrR91XBAAAAEkGa5knhDomUwUTDf/6nhAABJwAAABABnwVqQr8ABIli3YrR91XBAAAAEkGbCEnhDyZTBTw3//6nhAABJwAAABABnydqQr8ABIli3YrR91XAAAAAEkGbKknhDyZTBTw3//6nhAABJwAAABABn0lqQr8ABIli3YrR91XBAAAAE0GbTEnhDyZTBTw7//6plgAAlYAAAAAQAZ9rakK/AASJYt2K0fdVwAAAABtBm3BJ4Q8mUwId//6plgAC3/JL8uz2oWQpdRkAAAAQQZ+ORRE8L/8AA2Ajd7hfQQAAAA8Bn610Qr8ABJXZQpNslq8AAAAPAZ+vakK/AAL8CxsDlYWAAAAAGkGbs0moQWiZTAh3//6plgAB0h0/KaMfrWnAAAAAD0Gf0UURLCv/AAL8RoICwQAAAA0Bn/JqQr8AAv1iRcAWAAAAEkGb90moQWyZTAhv//6nhAABJwAAAAxBnhVFFSwv/wAAsoEAAAAQAZ40dEK/AAMQ8m6O2+I+gAAAABABnjZqQr8ABJhMBz+tA6QxAAAAGkGaOkmoQWyZTAhv//6nhAAFrCpWbbZ9n0N5AAAAD0GeWEUVLCv/AASWVwKjQAAAAA0BnnlqQr8ABJg1h40bAAAAE0GafEmoQWyZTBRMN//+p4QAAScAAAAQAZ6bakK/AASJYt2K0fdVwQAAABJBmp5J4QpSZTBSw3/+p4QAAScAAAAQAZ69akK/AASJYt2K0fdVwAAAABJBmqBJ4Q6JlMFEw3/+p4QAAScAAAAQAZ7fakK/AASJYt2K0fdVwQAAABtBmsRJ4Q8mUwIb//6nhAAFs+NP4/mWaprczGQAAAAQQZ7iRRE8L/8AA2Ajd7hfQQAAAA8BnwF0Qr8ABJXZQpNslq8AAAAPAZ8DakK/AAL8CxsDlYWBAAAAEkGbCEmoQWiZTAhf//6MsAAEjQAAAAxBnyZFESwv/wAAsoEAAAAQAZ9FdEK/AAL88m6O2+JEgQAAAA8Bn0dqQr8AAvwLGiVzzUcAAAAaQZtJS6hCEFskRggoB/IB/YeAIV/+OEAAEXAAAAxYbW9vdgAAAGxtdmhkAAAAAAAAAAAAAAAAAAAD6AAAH5AAAQAAAQAAAAAAAAAAAAAAAAEAAAAAAAAAAAAAAAAAAAABAAAAAAAAAAAAAAAAAABAAAAAAAAAAAAAAAAAAAAAAAAAAAAAAAAAAAAAAAAAAgAAC4J0cmFrAAAAXHRraGQAAAADAAAAAAAAAAAAAAABAAAAAAAAH5AAAAAAAAAAAAAAAAAAAAAAAAEAAAAAAAAAAAAAAAAAAAABAAAAAAAAAAAAAAAAAABAAAAAARAAAAEQAAAAAAAkZWR0cwAAABxlbHN0AAAAAAAAAAEAAB+QAAAEAAABAAAAAAr6bWRpYQAAACBtZGhkAAAAAAAAAAAAAAAAAAAyAAABlABVxAAAAAAALWhkbHIAAAAAAAAAAHZpZGUAAAAAAAAAAAAAAABWaWRlb0hhbmRsZXIAAAAKpW1pbmYAAAAUdm1oZAAAAAEAAAAAAAAAAAAAACRkaW5mAAAAHGRyZWYAAAAAAAAAAQAAAAx1cmwgAAAAAQAACmVzdGJsAAAAlXN0c2QAAAAAAAAAAQAAAIVhdmMxAAAAAAAAAAEAAAAAAAAAAAAAAAAAAAAAARABEABIAAAASAAAAAAAAAABAAAAAAAAAAAAAAAAAAAAAAAAAAAAAAAAAAAAAAAAAAAAGP//AAAAL2F2Y0MB9AAN/+EAF2f0AA2RmygiEdCAAAADAIAAABkHihTLAQAFaOvjxEgAAAAYc3R0cwAAAAAAAAABAAAAygAAAgAAAAAUc3RzcwAAAAAAAAABAAAAAQAABjBjdHRzAAAAAAAAAMQAAAABAAAEAAAAAAEAAAYAAAAAAQAAAgAAAAABAAAEAAAAAAEAAAoAAAAAAQAABAAAAAABAAAAAAAAAAEAAAIAAAAAAQAACgAAAAABAAAEAAAAAAEAAAAAAAAAAQAAAgAAAAABAAAKAAAAAAEAAAQAAAAAAQAAAAAAAAABAAACAAAAAAEAAAoAAAAAAQAABAAAAAABAAAAAAAAAAEAAAIAAAAAAQAACgAAAAABAAAEAAAAAAEAAAAAAAAAAQAAAgAAAAABAAAKAAAAAAEAAAQAAAAAAQAAAAAAAAABAAACAAAAAAEAAAoAAAAAAQAABAAAAAABAAAAAAAAAAEAAAIAAAAAAQAACgAAAAABAAAEAAAAAAEAAAAAAAAAAQAAAgAAAAABAAAEAAAAAAEAAAoAAAAAAQAABAAAAAABAAAAAAAAAAEAAAIAAAAAAQAACgAAAAABAAAEAAAAAAEAAAAAAAAAAQAAAgAAAAABAAAKAAAAAAEAAAQAAAAAAQAAAAAAAAABAAACAAAAAAEAAAoAAAAAAQAABAAAAAABAAAAAAAAAAEAAAIAAAAAAQAACgAAAAABAAAEAAAAAAEAAAAAAAAAAQAAAgAAAAABAAAKAAAAAAEAAAQAAAAAAQAAAAAAAAABAAACAAAAAAEAAAoAAAAAAQAABAAAAAABAAAAAAAAAAEAAAIAAAAAAQAACgAAAAABAAAEAAAAAAEAAAAAAAAAAQAAAgAAAAABAAAKAAAAAAEAAAQAAAAAAQAAAAAAAAABAAACAAAAAAEAAAoAAAAAAQAABAAAAAABAAAAAAAAAAEAAAIAAAAAAQAACgAAAAABAAAEAAAAAAEAAAAAAAAAAQAAAgAAAAABAAAKAAAAAAEAAAQAAAAAAQAAAAAAAAABAAACAAAAAAEAAAoAAAAAAQAABAAAAAABAAAAAAAAAAEAAAIAAAAAAQAACAAAAAACAAACAAAAAAEAAAoAAAAAAQAABAAAAAABAAAAAAAAAAEAAAIAAAAAAQAABgAAAAABAAACAAAAAAEAAAYAAAAAAQAAAgAAAAABAAAGAAAAAAEAAAIAAAAAAQAABgAAAAABAAACAAAAAAEAAAYAAAAAAQAAAgAAAAABAAAGAAAAAAEAAAIAAAAAAQAABgAAAAABAAACAAAAAAEAAAYAAAAAAQAAAgAAAAABAAAGAAAAAAEAAAIAAAAAAQAABgAAAAABAAACAAAAAAEAAAYAAAAAAQAAAgAAAAABAAAGAAAAAAEAAAIAAAAAAQAACgAAAAABAAAEAAAAAAEAAAAAAAAAAQAAAgAAAAABAAAIAAAAAAIAAAIAAAAAAQAABgAAAAABAAACAAAAAAEAAAoAAAAAAQAABAAAAAABAAAAAAAAAAEAAAIAAAAAAQAACAAAAAACAAACAAAAAAEAAAQAAAAAAQAACgAAAAABAAAEAAAAAAEAAAAAAAAAAQAAAgAAAAABAAAKAAAAAAEAAAQAAAAAAQAAAAAAAAABAAACAAAAAAEAAAoAAAAAAQAABAAAAAABAAAAAAAAAAEAAAIAAAAAAQAACgAAAAABAAAEAAAAAAEAAAAAAAAAAQAAAgAAAAABAAAEAAAAAAEAAAoAAAAAAQAABAAAAAABAAAAAAAAAAEAAAIAAAAAAQAACAAAAAACAAACAAAAAAEAAAYAAAAAAQAAAgAAAAABAAAGAAAAAAEAAAIAAAAAAQAABgAAAAABAAACAAAAAAEAAAYAAAAAAQAAAgAAAAABAAAGAAAAAAEAAAIAAAAAAQAABgAAAAABAAACAAAAAAEAAAoAAAAAAQAABAAAAAABAAAAAAAAAAEAAAIAAAAAAQAACAAAAAACAAACAAAAAAEAAAoAAAAAAQAABAAAAAABAAAAAAAAAAEAAAIAAAAAAQAACAAAAAACAAACAAAAAAEAAAYAAAAAAQAAAgAAAAABAAAGAAAAAAEAAAIAAAAAAQAABgAAAAABAAACAAAAAAEAAAoAAAAAAQAABAAAAAABAAAAAAAAAAEAAAIAAAAAAQAACgAAAAABAAAEAAAAAAEAAAAAAAAAAQAAAgAAAAABAAAEAAAAABxzdHNjAAAAAAAAAAEAAAABAAAAygAAAAEAAAM8c3RzegAAAAAAAAAAAAAAygAABacAAAAVAAAAFAAAABwAAAAqAAAAGAAAABMAAAAUAAAAFwAAABAAAAAUAAAAEwAAABcAAAAQAAAAFAAAABMAAAAXAAAAEAAAABQAAAATAAAAFwAAABAAAAAUAAAAEwAAABcAAAAQAAAAFAAAABMAAAAXAAAAEAAAABQAAAATAAAALAAAABQAAAATAAAAFAAAAB8AAAAWAAAAEAAAABQAAAATAAAAFwAAACcAAAATAAAAEwAAABcAAAAQAAAAFAAAABMAAAAXAAAAEAAAABQAAAATAAAAFwAAABAAAAAUAAAAEwAAABcAAAAQAAAAFAAAABMAAAAXAAAAEAAAABQAAAATAAAAFwAAABAAAAAUAAAAEwAAACoAAAAUAAAAEwAAABMAAAAfAAAAFAAAABMAAAATAAAAFwAAABAAAAAUAAAAFAAAABcAAAAQAAAAFAAAABMAAAAXAAAAEAAAABQAAAATAAAAHgAAABMAAAARAAAAIwAAABQAAAATAAAAEwAAABcAAAAUAAAAFgAAABQAAAAWAAAAFAAAABYAAAAUAAAAFgAAABQAAAAWAAAAFAAAABYAAAAUAAAAFgAAABQAAAAWAAAAFAAAABYAAAAUAAAAFgAAABQAAAAXAAAAFAAAAB8AAAAUAAAAEwAAABQAAAAeAAAAEwAAABEAAAAYAAAAFAAAACEAAAAUAAAAEwAAABQAAAAdAAAAEwAAABEAAAAeAAAAHwAAABQAAAAUAAAAEwAAABcAAAAQAAAAFAAAABMAAAAXAAAAEAAAABQAAAATAAAAFgAAABAAAAAUAAAAFAAAAB4AAAAVAAAAEAAAABQAAAAUAAAAHgAAABMAAAARAAAAFwAAABQAAAAWAAAAFAAAABYAAAAUAAAAFgAAABQAAAAWAAAAFAAAABcAAAAUAAAAHwAAABQAAAATAAAAEwAAAB4AAAATAAAAEQAAABYAAAAQAAAAFAAAABQAAAAeAAAAEwAAABEAAAAXAAAAFAAAABYAAAAUAAAAFgAAABQAAAAfAAAAFAAAABMAAAATAAAAFgAAABAAAAAUAAAAEwAAAB4AAAAUc3RjbwAAAAAAAAABAAAAMAAAAGJ1ZHRhAAAAWm1ldGEAAAAAAAAAIWhkbHIAAAAAAAAAAG1kaXJhcHBsAAAAAAAAAAAAAAAALWlsc3QAAAAlqXRvbwAAAB1kYXRhAAAAAQAAAABMYXZmNTguMjAuMTAw\" type=\"video/mp4\" />\n",
       "             </video>"
      ],
      "text/plain": [
       "<IPython.core.display.HTML object>"
      ]
     },
     "execution_count": 52,
     "metadata": {},
     "output_type": "execute_result"
    }
   ],
   "source": [
    "env = Environment(grid_size=size, max_time=T, temperature=0.3)\n",
    "agent = DQN_CNN(size, lr=.01, epsilon = 0.1, memory_size=2000, batch_size = 32)\n",
    "train(agent,env,epochs_train,prefix='cnn_train')\n",
    "HTML(display_videos('cnn_train10.mp4'))"
   ]
  },
  {
   "cell_type": "code",
   "execution_count": 53,
   "metadata": {},
   "outputs": [
    {
     "data": {
      "image/svg+xml": [
       "<svg height=\"516pt\" viewBox=\"0.00 0.00 340.00 387.00\" width=\"453pt\" xmlns=\"http://www.w3.org/2000/svg\" xmlns:xlink=\"http://www.w3.org/1999/xlink\">\n",
       "<g class=\"graph\" id=\"graph0\" transform=\"scale(0.75 0.75) rotate(0) translate(4 383)\">\n",
       "<title>G</title>\n",
       "<polygon fill=\"white\" points=\"-4,4 -4,-383 336,-383 336,4 -4,4\" stroke=\"transparent\"/>\n",
       "<!-- 140260904760784 -->\n",
       "<g class=\"node\" id=\"node1\">\n",
       "<title>140260904760784</title>\n",
       "<polygon fill=\"none\" points=\"0,-332.5 0,-378.5 332,-378.5 332,-332.5 0,-332.5\" stroke=\"black\"/>\n",
       "<text font-family=\"Times,serif\" font-size=\"14.00\" text-anchor=\"middle\" x=\"89.5\" y=\"-351.8\">conv2d_19_input: InputLayer</text>\n",
       "<polyline fill=\"none\" points=\"179,-332.5 179,-378.5 \" stroke=\"black\"/>\n",
       "<text font-family=\"Times,serif\" font-size=\"14.00\" text-anchor=\"middle\" x=\"206.5\" y=\"-363.3\">input:</text>\n",
       "<polyline fill=\"none\" points=\"179,-355.5 234,-355.5 \" stroke=\"black\"/>\n",
       "<text font-family=\"Times,serif\" font-size=\"14.00\" text-anchor=\"middle\" x=\"206.5\" y=\"-340.3\">output:</text>\n",
       "<polyline fill=\"none\" points=\"234,-332.5 234,-378.5 \" stroke=\"black\"/>\n",
       "<text font-family=\"Times,serif\" font-size=\"14.00\" text-anchor=\"middle\" x=\"283\" y=\"-363.3\">(None, 5, 5, 2)</text>\n",
       "<polyline fill=\"none\" points=\"234,-355.5 332,-355.5 \" stroke=\"black\"/>\n",
       "<text font-family=\"Times,serif\" font-size=\"14.00\" text-anchor=\"middle\" x=\"283\" y=\"-340.3\">(None, 5, 5, 2)</text>\n",
       "</g>\n",
       "<!-- 140260891726480 -->\n",
       "<g class=\"node\" id=\"node2\">\n",
       "<title>140260891726480</title>\n",
       "<polygon fill=\"none\" points=\"21.5,-249.5 21.5,-295.5 310.5,-295.5 310.5,-249.5 21.5,-249.5\" stroke=\"black\"/>\n",
       "<text font-family=\"Times,serif\" font-size=\"14.00\" text-anchor=\"middle\" x=\"86.5\" y=\"-268.8\">conv2d_19: Conv2D</text>\n",
       "<polyline fill=\"none\" points=\"151.5,-249.5 151.5,-295.5 \" stroke=\"black\"/>\n",
       "<text font-family=\"Times,serif\" font-size=\"14.00\" text-anchor=\"middle\" x=\"179\" y=\"-280.3\">input:</text>\n",
       "<polyline fill=\"none\" points=\"151.5,-272.5 206.5,-272.5 \" stroke=\"black\"/>\n",
       "<text font-family=\"Times,serif\" font-size=\"14.00\" text-anchor=\"middle\" x=\"179\" y=\"-257.3\">output:</text>\n",
       "<polyline fill=\"none\" points=\"206.5,-249.5 206.5,-295.5 \" stroke=\"black\"/>\n",
       "<text font-family=\"Times,serif\" font-size=\"14.00\" text-anchor=\"middle\" x=\"258.5\" y=\"-280.3\">(None, 5, 5, 2)</text>\n",
       "<polyline fill=\"none\" points=\"206.5,-272.5 310.5,-272.5 \" stroke=\"black\"/>\n",
       "<text font-family=\"Times,serif\" font-size=\"14.00\" text-anchor=\"middle\" x=\"258.5\" y=\"-257.3\">(None, 5, 5, 64)</text>\n",
       "</g>\n",
       "<!-- 140260904760784&#45;&gt;140260891726480 -->\n",
       "<g class=\"edge\" id=\"edge1\">\n",
       "<title>140260904760784-&gt;140260891726480</title>\n",
       "<path d=\"M166,-332.37C166,-324.15 166,-314.66 166,-305.73\" fill=\"none\" stroke=\"black\"/>\n",
       "<polygon fill=\"black\" points=\"169.5,-305.61 166,-295.61 162.5,-305.61 169.5,-305.61\" stroke=\"black\"/>\n",
       "</g>\n",
       "<!-- 140260891922576 -->\n",
       "<g class=\"node\" id=\"node3\">\n",
       "<title>140260891922576</title>\n",
       "<polygon fill=\"none\" points=\"21.5,-166.5 21.5,-212.5 310.5,-212.5 310.5,-166.5 21.5,-166.5\" stroke=\"black\"/>\n",
       "<text font-family=\"Times,serif\" font-size=\"14.00\" text-anchor=\"middle\" x=\"86.5\" y=\"-185.8\">conv2d_20: Conv2D</text>\n",
       "<polyline fill=\"none\" points=\"151.5,-166.5 151.5,-212.5 \" stroke=\"black\"/>\n",
       "<text font-family=\"Times,serif\" font-size=\"14.00\" text-anchor=\"middle\" x=\"179\" y=\"-197.3\">input:</text>\n",
       "<polyline fill=\"none\" points=\"151.5,-189.5 206.5,-189.5 \" stroke=\"black\"/>\n",
       "<text font-family=\"Times,serif\" font-size=\"14.00\" text-anchor=\"middle\" x=\"179\" y=\"-174.3\">output:</text>\n",
       "<polyline fill=\"none\" points=\"206.5,-166.5 206.5,-212.5 \" stroke=\"black\"/>\n",
       "<text font-family=\"Times,serif\" font-size=\"14.00\" text-anchor=\"middle\" x=\"258.5\" y=\"-197.3\">(None, 5, 5, 64)</text>\n",
       "<polyline fill=\"none\" points=\"206.5,-189.5 310.5,-189.5 \" stroke=\"black\"/>\n",
       "<text font-family=\"Times,serif\" font-size=\"14.00\" text-anchor=\"middle\" x=\"258.5\" y=\"-174.3\">(None, 5, 5, 32)</text>\n",
       "</g>\n",
       "<!-- 140260891726480&#45;&gt;140260891922576 -->\n",
       "<g class=\"edge\" id=\"edge2\">\n",
       "<title>140260891726480-&gt;140260891922576</title>\n",
       "<path d=\"M166,-249.37C166,-241.15 166,-231.66 166,-222.73\" fill=\"none\" stroke=\"black\"/>\n",
       "<polygon fill=\"black\" points=\"169.5,-222.61 166,-212.61 162.5,-222.61 169.5,-222.61\" stroke=\"black\"/>\n",
       "</g>\n",
       "<!-- 140260897199184 -->\n",
       "<g class=\"node\" id=\"node4\">\n",
       "<title>140260897199184</title>\n",
       "<polygon fill=\"none\" points=\"28.5,-83.5 28.5,-129.5 303.5,-129.5 303.5,-83.5 28.5,-83.5\" stroke=\"black\"/>\n",
       "<text font-family=\"Times,serif\" font-size=\"14.00\" text-anchor=\"middle\" x=\"86.5\" y=\"-102.8\">flatten_18: Flatten</text>\n",
       "<polyline fill=\"none\" points=\"144.5,-83.5 144.5,-129.5 \" stroke=\"black\"/>\n",
       "<text font-family=\"Times,serif\" font-size=\"14.00\" text-anchor=\"middle\" x=\"172\" y=\"-114.3\">input:</text>\n",
       "<polyline fill=\"none\" points=\"144.5,-106.5 199.5,-106.5 \" stroke=\"black\"/>\n",
       "<text font-family=\"Times,serif\" font-size=\"14.00\" text-anchor=\"middle\" x=\"172\" y=\"-91.3\">output:</text>\n",
       "<polyline fill=\"none\" points=\"199.5,-83.5 199.5,-129.5 \" stroke=\"black\"/>\n",
       "<text font-family=\"Times,serif\" font-size=\"14.00\" text-anchor=\"middle\" x=\"251.5\" y=\"-114.3\">(None, 5, 5, 32)</text>\n",
       "<polyline fill=\"none\" points=\"199.5,-106.5 303.5,-106.5 \" stroke=\"black\"/>\n",
       "<text font-family=\"Times,serif\" font-size=\"14.00\" text-anchor=\"middle\" x=\"251.5\" y=\"-91.3\">(None, 800)</text>\n",
       "</g>\n",
       "<!-- 140260891922576&#45;&gt;140260897199184 -->\n",
       "<g class=\"edge\" id=\"edge3\">\n",
       "<title>140260891922576-&gt;140260897199184</title>\n",
       "<path d=\"M166,-166.37C166,-158.15 166,-148.66 166,-139.73\" fill=\"none\" stroke=\"black\"/>\n",
       "<polygon fill=\"black\" points=\"169.5,-139.61 166,-129.61 162.5,-139.61 169.5,-139.61\" stroke=\"black\"/>\n",
       "</g>\n",
       "<!-- 140260897198800 -->\n",
       "<g class=\"node\" id=\"node5\">\n",
       "<title>140260897198800</title>\n",
       "<polygon fill=\"none\" points=\"42.5,-0.5 42.5,-46.5 289.5,-46.5 289.5,-0.5 42.5,-0.5\" stroke=\"black\"/>\n",
       "<text font-family=\"Times,serif\" font-size=\"14.00\" text-anchor=\"middle\" x=\"97\" y=\"-19.8\">dense_26: Dense</text>\n",
       "<polyline fill=\"none\" points=\"151.5,-0.5 151.5,-46.5 \" stroke=\"black\"/>\n",
       "<text font-family=\"Times,serif\" font-size=\"14.00\" text-anchor=\"middle\" x=\"179\" y=\"-31.3\">input:</text>\n",
       "<polyline fill=\"none\" points=\"151.5,-23.5 206.5,-23.5 \" stroke=\"black\"/>\n",
       "<text font-family=\"Times,serif\" font-size=\"14.00\" text-anchor=\"middle\" x=\"179\" y=\"-8.3\">output:</text>\n",
       "<polyline fill=\"none\" points=\"206.5,-0.5 206.5,-46.5 \" stroke=\"black\"/>\n",
       "<text font-family=\"Times,serif\" font-size=\"14.00\" text-anchor=\"middle\" x=\"248\" y=\"-31.3\">(None, 800)</text>\n",
       "<polyline fill=\"none\" points=\"206.5,-23.5 289.5,-23.5 \" stroke=\"black\"/>\n",
       "<text font-family=\"Times,serif\" font-size=\"14.00\" text-anchor=\"middle\" x=\"248\" y=\"-8.3\">(None, 4)</text>\n",
       "</g>\n",
       "<!-- 140260897199184&#45;&gt;140260897198800 -->\n",
       "<g class=\"edge\" id=\"edge4\">\n",
       "<title>140260897199184-&gt;140260897198800</title>\n",
       "<path d=\"M166,-83.37C166,-75.15 166,-65.66 166,-56.73\" fill=\"none\" stroke=\"black\"/>\n",
       "<polygon fill=\"black\" points=\"169.5,-56.61 166,-46.61 162.5,-56.61 169.5,-56.61\" stroke=\"black\"/>\n",
       "</g>\n",
       "</g>\n",
       "</svg>"
      ],
      "text/plain": [
       "<IPython.core.display.SVG object>"
      ]
     },
     "execution_count": 53,
     "metadata": {},
     "output_type": "execute_result"
    }
   ],
   "source": [
    "# Display the model layers (again):\n",
    "SVG(model_to_dot(agent.model, show_shapes=True, show_layer_names=True).create(prog='dot', format='svg'))"
   ]
  },
  {
   "cell_type": "markdown",
   "metadata": {},
   "source": [
    "***\n",
    "***\n",
    "__Question 9__ Test both algorithms and compare their performances. Which issue(s) do you observe? Observe also different behaviors by changing the temperature."
   ]
  },
  {
   "cell_type": "code",
   "execution_count": 55,
   "metadata": {},
   "outputs": [
    {
     "name": "stdout",
     "output_type": "stream",
     "text": [
      "Test of the CNN\n",
      "Win/lose count 0/1.0. Average score (-1.0)\n",
      "Win/lose count 2.0/2.0. Average score (-0.5)\n",
      "Win/lose count 0.5/0. Average score (-0.16666666666666666)\n",
      "Win/lose count 0.5/0. Average score (0.0)\n",
      "Win/lose count 1.0/1.0. Average score (0.0)\n",
      "Win/lose count 2.5/1.0. Average score (0.25)\n",
      "Win/lose count 3.0/1.0. Average score (0.5)\n",
      "Win/lose count 1.0/1.0. Average score (0.4375)\n",
      "Win/lose count 0.5/2.0. Average score (0.2222222222222222)\n",
      "Win/lose count 0.5/3.0. Average score (-0.05)\n",
      "Win/lose count 3.0/3.0. Average score (-0.045454545454545456)\n",
      "Win/lose count 1.5/2.0. Average score (-0.08333333333333333)\n",
      "Win/lose count 1.0/0. Average score (0.0)\n",
      "Win/lose count 0.5/5.0. Average score (-0.32142857142857145)\n",
      "Win/lose count 0/3.0. Average score (-0.5)\n",
      "Win/lose count 1.0/1.0. Average score (-0.46875)\n",
      "Win/lose count 3.0/0. Average score (-0.2647058823529412)\n",
      "Win/lose count 0.5/2.0. Average score (-0.3333333333333333)\n",
      "Win/lose count 2.5/0. Average score (-0.18421052631578946)\n",
      "Win/lose count 2.0/2.0. Average score (-0.175)\n",
      "Win/lose count 2.0/1.0. Average score (-0.11904761904761904)\n",
      "Win/lose count 0/1.0. Average score (-0.1590909090909091)\n",
      "Win/lose count 1.5/1.0. Average score (-0.13043478260869565)\n",
      "Win/lose count 2.0/0. Average score (-0.041666666666666664)\n",
      "Win/lose count 2.0/1.0. Average score (0.0)\n",
      "Win/lose count 3.5/3.0. Average score (0.019230769230769232)\n",
      "Win/lose count 2.0/2.0. Average score (0.018518518518518517)\n",
      "Win/lose count 3.0/5.0. Average score (-0.05357142857142857)\n",
      "Win/lose count 2.0/2.0. Average score (-0.05172413793103448)\n",
      "Win/lose count 1.5/0. Average score (0.0)\n",
      "Final score: 0.0\n",
      "Test of the FC\n",
      "Win/lose count 0.5/2.0. Average score (-1.5)\n",
      "Win/lose count 0.5/1.0. Average score (-1.0)\n",
      "Win/lose count 1.0/2.0. Average score (-1.0)\n",
      "Win/lose count 0.5/1.0. Average score (-0.875)\n",
      "Win/lose count 0.5/1.0. Average score (-0.8)\n",
      "Win/lose count 1.0/2.0. Average score (-0.8333333333333334)\n",
      "Win/lose count 1.0/0. Average score (-0.5714285714285714)\n",
      "Win/lose count 0/0. Average score (-0.5)\n",
      "Win/lose count 2.5/1.0. Average score (-0.2777777777777778)\n",
      "Win/lose count 4.0/2.0. Average score (-0.05)\n",
      "Win/lose count 0.5/0. Average score (0.0)\n",
      "Win/lose count 4.0/6.0. Average score (-0.16666666666666666)\n",
      "Win/lose count 1.5/2.0. Average score (-0.19230769230769232)\n",
      "Win/lose count 2.5/2.0. Average score (-0.14285714285714285)\n",
      "Win/lose count 0/0. Average score (-0.13333333333333333)\n",
      "Win/lose count 1.0/0. Average score (-0.0625)\n",
      "Win/lose count 2.0/3.0. Average score (-0.11764705882352941)\n",
      "Win/lose count 0.5/0. Average score (-0.08333333333333333)\n",
      "Win/lose count 0.5/0. Average score (-0.05263157894736842)\n",
      "Win/lose count 0.5/1.0. Average score (-0.075)\n",
      "Win/lose count 0.5/0. Average score (-0.047619047619047616)\n",
      "Win/lose count 1.5/8.0. Average score (-0.3409090909090909)\n",
      "Win/lose count 0/2.0. Average score (-0.41304347826086957)\n",
      "Win/lose count 0/1.0. Average score (-0.4375)\n",
      "Win/lose count 0.5/0. Average score (-0.4)\n",
      "Win/lose count 1.5/3.0. Average score (-0.4423076923076923)\n",
      "Win/lose count 0.5/0. Average score (-0.4074074074074074)\n",
      "Win/lose count 0.5/0. Average score (-0.375)\n",
      "Win/lose count 0/0. Average score (-0.3620689655172414)\n",
      "Win/lose count 0/0. Average score (-0.35)\n",
      "Final score: -0.35\n"
     ]
    }
   ],
   "source": [
    "env = Environment(grid_size=size, max_time=T,temperature=0.3)\n",
    "agent_cnn = DQN_CNN(size, lr=.1, epsilon = 0.1, memory_size=2000, batch_size = 32)\n",
    "agent_cnn.load(name_weights='cnn_trainmodel.h5',name_model='cnn_trainmodel.json')\n",
    "\n",
    "agent_fc = DQN_FC(size, lr=.1, epsilon = 0.1, memory_size=2000, batch_size = 32)\n",
    "agent_cnn.load(name_weights='fc_trainmodel.h5',name_model='fc_trainmodel.json')\n",
    "print('Test of the CNN')\n",
    "test(agent_cnn,env,epochs_test,prefix='cnn_test')\n",
    "print('Test of the FC')\n",
    "test(agent_fc,env,epochs_test,prefix='fc_test')"
   ]
  },
  {
   "cell_type": "code",
   "execution_count": 56,
   "metadata": {},
   "outputs": [
    {
     "data": {
      "text/html": [
       "<video alt=\"test\" controls>\n",
       "                <source src=\"data:video/mp4;base64,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\" type=\"video/mp4\" />\n",
       "             </video>"
      ],
      "text/plain": [
       "<IPython.core.display.HTML object>"
      ]
     },
     "execution_count": 56,
     "metadata": {},
     "output_type": "execute_result"
    }
   ],
   "source": [
    "HTML(display_videos('cnn_test10.mp4'))"
   ]
  },
  {
   "cell_type": "code",
   "execution_count": 57,
   "metadata": {},
   "outputs": [
    {
     "data": {
      "text/html": [
       "<video alt=\"test\" controls>\n",
       "                <source src=\"data:video/mp4;base64,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\" type=\"video/mp4\" />\n",
       "             </video>"
      ],
      "text/plain": [
       "<IPython.core.display.HTML object>"
      ]
     },
     "execution_count": 57,
     "metadata": {},
     "output_type": "execute_result"
    }
   ],
   "source": [
    "HTML(display_videos('fc_test10.mp4'))"
   ]
  },
  {
   "cell_type": "markdown",
   "metadata": {},
   "source": [
    "One of the behaviors we can observe is the agent getting stuck (when testing with the greedy policy $\\pi^*(s) = \\arg\\max_a q_\\theta(s,a)$) and cycling between a set of states."
   ]
  },
  {
   "cell_type": "markdown",
   "metadata": {},
   "source": [
    "***\n",
    "\n",
    "The algorithm tends to not explore the map which can be an issue. We propose two ideas in order to encourage exploration:\n",
    "1. Incorporating a decreasing $\\epsilon$-greedy exploration. You can use the method ```set_epsilon```\n",
    "2. Append via the environment a new state that describes if a cell has been visited or not\n",
    "\n",
    "***\n",
    "__Question 10__ Design a new ```train_explore``` function and environment class ```EnvironmentExploring``` to tackle the issue of exploration.\n",
    "\n"
   ]
  },
  {
   "cell_type": "code",
   "execution_count": null,
   "metadata": {
    "collapsed": true,
    "jupyter": {
     "outputs_hidden": true
    }
   },
   "outputs": [],
   "source": [
    "def train_explore(agent,env,epoch,prefix=''):\n",
    "    pass\n",
    "        \n",
    "class EnvironmentExploring(object):\n",
    "    def __init__(self, grid_size=10, max_time=500, temperature=0.1):\n",
    "        pass\n",
    "    \n",
    "## use those samples of code:\n",
    "#In train explore:\n",
    "state, reward, game_over = env.act(action, train=True)\n",
    "\n",
    "## In Environment exploring:\n",
    "# You will have to change n_state to 3 because you will use one more layer!\n",
    "reward = 0\n",
    "if train:\n",
    "    reward = -self.malus_position[self.x, self.y]\n",
    "self.malus_position[self.x, self.y] = 0.1\n",
    "\n",
    "reward = reward + self.board[self.x, self.y]\n",
    "# 3 \"feature\" states instead of 2\n",
    "state = np.concatenate((self.malus_position.reshape(self.grid_size, self.grid_size,1),\n",
    "                                self.board.reshape(self.grid_size, self.grid_size,1),\n",
    "                        self.position.reshape(self.grid_size, self.grid_size,1)),axis=2)"
   ]
  },
  {
   "cell_type": "code",
   "execution_count": null,
   "metadata": {
    "collapsed": true,
    "jupyter": {
     "outputs_hidden": true
    }
   },
   "outputs": [],
   "source": [
    "# Training\n",
    "env = EnvironmentExploring(grid_size=size, max_time=T, temperature=0.3)\n",
    "agent = DQN_CNN(size, lr=.1, epsilon = 0.1, memory_size=2000, batch_size = 32,n_state=3)\n",
    "train_explore(agent, env, epochs_train, prefix='cnn_train_explore')\n",
    "HTML(display_videos('cnn_train_explore10.mp4'))"
   ]
  },
  {
   "cell_type": "code",
   "execution_count": null,
   "metadata": {
    "collapsed": true,
    "jupyter": {
     "outputs_hidden": true
    }
   },
   "outputs": [],
   "source": [
    "# Evaluation\n",
    "test(agent,env,epochs_test,prefix='cnn_test_explore')\n",
    "HTML(display_videos('cnn_test_explore10.mp4'))"
   ]
  },
  {
   "cell_type": "markdown",
   "metadata": {},
   "source": [
    "***\n",
    "***\n",
    "__BONUS question__ Use the expert DQN from the previous question to generate some winning games. Train a model that mimicks its behavior. Compare the performances."
   ]
  },
  {
   "cell_type": "markdown",
   "metadata": {},
   "source": []
  },
  {
   "cell_type": "markdown",
   "metadata": {},
   "source": [
    "***"
   ]
  }
 ],
 "metadata": {
  "kernelspec": {
   "display_name": "Python [conda env:tf1]",
   "language": "python",
   "name": "conda-env-tf1-py"
  },
  "language_info": {
   "codemirror_mode": {
    "name": "ipython",
    "version": 3
   },
   "file_extension": ".py",
   "mimetype": "text/x-python",
   "name": "python",
   "nbconvert_exporter": "python",
   "pygments_lexer": "ipython3",
   "version": "3.7.6"
  }
 },
 "nbformat": 4,
 "nbformat_minor": 4
}
